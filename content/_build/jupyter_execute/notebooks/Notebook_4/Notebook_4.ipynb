{
 "cells": [
  {
   "cell_type": "markdown",
   "metadata": {},
   "source": [
    "# Notebook 4: Characterization of Long-Term Runoff"
   ]
  },
  {
   "cell_type": "code",
   "execution_count": 1,
   "metadata": {},
   "outputs": [
    {
     "data": {
      "text/html": [
       "\n",
       "<div class=\"bk-root\">\n",
       "    <a href=\"https://bokeh.org\" target=\"_blank\" class=\"bk-logo bk-logo-small bk-logo-notebook\"></a>\n",
       "    <span id=\"1001\">Loading BokehJS ...</span>\n",
       "</div>"
      ]
     },
     "metadata": {},
     "output_type": "display_data"
    },
    {
     "data": {
      "application/javascript": [
       "\n",
       "(function(root) {\n",
       "  function now() {\n",
       "    return new Date();\n",
       "  }\n",
       "\n",
       "  var force = true;\n",
       "\n",
       "  if (typeof root._bokeh_onload_callbacks === \"undefined\" || force === true) {\n",
       "    root._bokeh_onload_callbacks = [];\n",
       "    root._bokeh_is_loading = undefined;\n",
       "  }\n",
       "\n",
       "  var JS_MIME_TYPE = 'application/javascript';\n",
       "  var HTML_MIME_TYPE = 'text/html';\n",
       "  var EXEC_MIME_TYPE = 'application/vnd.bokehjs_exec.v0+json';\n",
       "  var CLASS_NAME = 'output_bokeh rendered_html';\n",
       "\n",
       "  /**\n",
       "   * Render data to the DOM node\n",
       "   */\n",
       "  function render(props, node) {\n",
       "    var script = document.createElement(\"script\");\n",
       "    node.appendChild(script);\n",
       "  }\n",
       "\n",
       "  /**\n",
       "   * Handle when an output is cleared or removed\n",
       "   */\n",
       "  function handleClearOutput(event, handle) {\n",
       "    var cell = handle.cell;\n",
       "\n",
       "    var id = cell.output_area._bokeh_element_id;\n",
       "    var server_id = cell.output_area._bokeh_server_id;\n",
       "    // Clean up Bokeh references\n",
       "    if (id != null && id in Bokeh.index) {\n",
       "      Bokeh.index[id].model.document.clear();\n",
       "      delete Bokeh.index[id];\n",
       "    }\n",
       "\n",
       "    if (server_id !== undefined) {\n",
       "      // Clean up Bokeh references\n",
       "      var cmd = \"from bokeh.io.state import curstate; print(curstate().uuid_to_server['\" + server_id + \"'].get_sessions()[0].document.roots[0]._id)\";\n",
       "      cell.notebook.kernel.execute(cmd, {\n",
       "        iopub: {\n",
       "          output: function(msg) {\n",
       "            var id = msg.content.text.trim();\n",
       "            if (id in Bokeh.index) {\n",
       "              Bokeh.index[id].model.document.clear();\n",
       "              delete Bokeh.index[id];\n",
       "            }\n",
       "          }\n",
       "        }\n",
       "      });\n",
       "      // Destroy server and session\n",
       "      var cmd = \"import bokeh.io.notebook as ion; ion.destroy_server('\" + server_id + \"')\";\n",
       "      cell.notebook.kernel.execute(cmd);\n",
       "    }\n",
       "  }\n",
       "\n",
       "  /**\n",
       "   * Handle when a new output is added\n",
       "   */\n",
       "  function handleAddOutput(event, handle) {\n",
       "    var output_area = handle.output_area;\n",
       "    var output = handle.output;\n",
       "\n",
       "    // limit handleAddOutput to display_data with EXEC_MIME_TYPE content only\n",
       "    if ((output.output_type != \"display_data\") || (!output.data.hasOwnProperty(EXEC_MIME_TYPE))) {\n",
       "      return\n",
       "    }\n",
       "\n",
       "    var toinsert = output_area.element.find(\".\" + CLASS_NAME.split(' ')[0]);\n",
       "\n",
       "    if (output.metadata[EXEC_MIME_TYPE][\"id\"] !== undefined) {\n",
       "      toinsert[toinsert.length - 1].firstChild.textContent = output.data[JS_MIME_TYPE];\n",
       "      // store reference to embed id on output_area\n",
       "      output_area._bokeh_element_id = output.metadata[EXEC_MIME_TYPE][\"id\"];\n",
       "    }\n",
       "    if (output.metadata[EXEC_MIME_TYPE][\"server_id\"] !== undefined) {\n",
       "      var bk_div = document.createElement(\"div\");\n",
       "      bk_div.innerHTML = output.data[HTML_MIME_TYPE];\n",
       "      var script_attrs = bk_div.children[0].attributes;\n",
       "      for (var i = 0; i < script_attrs.length; i++) {\n",
       "        toinsert[toinsert.length - 1].firstChild.setAttribute(script_attrs[i].name, script_attrs[i].value);\n",
       "        toinsert[toinsert.length - 1].firstChild.textContent = bk_div.children[0].textContent\n",
       "      }\n",
       "      // store reference to server id on output_area\n",
       "      output_area._bokeh_server_id = output.metadata[EXEC_MIME_TYPE][\"server_id\"];\n",
       "    }\n",
       "  }\n",
       "\n",
       "  function register_renderer(events, OutputArea) {\n",
       "\n",
       "    function append_mime(data, metadata, element) {\n",
       "      // create a DOM node to render to\n",
       "      var toinsert = this.create_output_subarea(\n",
       "        metadata,\n",
       "        CLASS_NAME,\n",
       "        EXEC_MIME_TYPE\n",
       "      );\n",
       "      this.keyboard_manager.register_events(toinsert);\n",
       "      // Render to node\n",
       "      var props = {data: data, metadata: metadata[EXEC_MIME_TYPE]};\n",
       "      render(props, toinsert[toinsert.length - 1]);\n",
       "      element.append(toinsert);\n",
       "      return toinsert\n",
       "    }\n",
       "\n",
       "    /* Handle when an output is cleared or removed */\n",
       "    events.on('clear_output.CodeCell', handleClearOutput);\n",
       "    events.on('delete.Cell', handleClearOutput);\n",
       "\n",
       "    /* Handle when a new output is added */\n",
       "    events.on('output_added.OutputArea', handleAddOutput);\n",
       "\n",
       "    /**\n",
       "     * Register the mime type and append_mime function with output_area\n",
       "     */\n",
       "    OutputArea.prototype.register_mime_type(EXEC_MIME_TYPE, append_mime, {\n",
       "      /* Is output safe? */\n",
       "      safe: true,\n",
       "      /* Index of renderer in `output_area.display_order` */\n",
       "      index: 0\n",
       "    });\n",
       "  }\n",
       "\n",
       "  // register the mime type if in Jupyter Notebook environment and previously unregistered\n",
       "  if (root.Jupyter !== undefined) {\n",
       "    var events = require('base/js/events');\n",
       "    var OutputArea = require('notebook/js/outputarea').OutputArea;\n",
       "\n",
       "    if (OutputArea.prototype.mime_types().indexOf(EXEC_MIME_TYPE) == -1) {\n",
       "      register_renderer(events, OutputArea);\n",
       "    }\n",
       "  }\n",
       "\n",
       "  \n",
       "  if (typeof (root._bokeh_timeout) === \"undefined\" || force === true) {\n",
       "    root._bokeh_timeout = Date.now() + 5000;\n",
       "    root._bokeh_failed_load = false;\n",
       "  }\n",
       "\n",
       "  var NB_LOAD_WARNING = {'data': {'text/html':\n",
       "     \"<div style='background-color: #fdd'>\\n\"+\n",
       "     \"<p>\\n\"+\n",
       "     \"BokehJS does not appear to have successfully loaded. If loading BokehJS from CDN, this \\n\"+\n",
       "     \"may be due to a slow or bad network connection. Possible fixes:\\n\"+\n",
       "     \"</p>\\n\"+\n",
       "     \"<ul>\\n\"+\n",
       "     \"<li>re-rerun `output_notebook()` to attempt to load from CDN again, or</li>\\n\"+\n",
       "     \"<li>use INLINE resources instead, as so:</li>\\n\"+\n",
       "     \"</ul>\\n\"+\n",
       "     \"<code>\\n\"+\n",
       "     \"from bokeh.resources import INLINE\\n\"+\n",
       "     \"output_notebook(resources=INLINE)\\n\"+\n",
       "     \"</code>\\n\"+\n",
       "     \"</div>\"}};\n",
       "\n",
       "  function display_loaded() {\n",
       "    var el = document.getElementById(\"1001\");\n",
       "    if (el != null) {\n",
       "      el.textContent = \"BokehJS is loading...\";\n",
       "    }\n",
       "    if (root.Bokeh !== undefined) {\n",
       "      if (el != null) {\n",
       "        el.textContent = \"BokehJS \" + root.Bokeh.version + \" successfully loaded.\";\n",
       "      }\n",
       "    } else if (Date.now() < root._bokeh_timeout) {\n",
       "      setTimeout(display_loaded, 100)\n",
       "    }\n",
       "  }\n",
       "\n",
       "\n",
       "  function run_callbacks() {\n",
       "    try {\n",
       "      root._bokeh_onload_callbacks.forEach(function(callback) {\n",
       "        if (callback != null)\n",
       "          callback();\n",
       "      });\n",
       "    } finally {\n",
       "      delete root._bokeh_onload_callbacks\n",
       "    }\n",
       "    console.debug(\"Bokeh: all callbacks have finished\");\n",
       "  }\n",
       "\n",
       "  function load_libs(css_urls, js_urls, callback) {\n",
       "    if (css_urls == null) css_urls = [];\n",
       "    if (js_urls == null) js_urls = [];\n",
       "\n",
       "    root._bokeh_onload_callbacks.push(callback);\n",
       "    if (root._bokeh_is_loading > 0) {\n",
       "      console.debug(\"Bokeh: BokehJS is being loaded, scheduling callback at\", now());\n",
       "      return null;\n",
       "    }\n",
       "    if (js_urls == null || js_urls.length === 0) {\n",
       "      run_callbacks();\n",
       "      return null;\n",
       "    }\n",
       "    console.debug(\"Bokeh: BokehJS not loaded, scheduling load and callback at\", now());\n",
       "    root._bokeh_is_loading = css_urls.length + js_urls.length;\n",
       "\n",
       "    function on_load() {\n",
       "      root._bokeh_is_loading--;\n",
       "      if (root._bokeh_is_loading === 0) {\n",
       "        console.debug(\"Bokeh: all BokehJS libraries/stylesheets loaded\");\n",
       "        run_callbacks()\n",
       "      }\n",
       "    }\n",
       "\n",
       "    function on_error() {\n",
       "      console.error(\"failed to load \" + url);\n",
       "    }\n",
       "\n",
       "    for (var i = 0; i < css_urls.length; i++) {\n",
       "      var url = css_urls[i];\n",
       "      const element = document.createElement(\"link\");\n",
       "      element.onload = on_load;\n",
       "      element.onerror = on_error;\n",
       "      element.rel = \"stylesheet\";\n",
       "      element.type = \"text/css\";\n",
       "      element.href = url;\n",
       "      console.debug(\"Bokeh: injecting link tag for BokehJS stylesheet: \", url);\n",
       "      document.body.appendChild(element);\n",
       "    }\n",
       "\n",
       "    const hashes = {\"https://cdn.bokeh.org/bokeh/release/bokeh-2.2.3.min.js\": \"T2yuo9Oe71Cz/I4X9Ac5+gpEa5a8PpJCDlqKYO0CfAuEszu1JrXLl8YugMqYe3sM\", \"https://cdn.bokeh.org/bokeh/release/bokeh-widgets-2.2.3.min.js\": \"98GDGJ0kOMCUMUePhksaQ/GYgB3+NH9h996V88sh3aOiUNX3N+fLXAtry6xctSZ6\", \"https://cdn.bokeh.org/bokeh/release/bokeh-tables-2.2.3.min.js\": \"89bArO+nlbP3sgakeHjCo1JYxYR5wufVgA3IbUvDY+K7w4zyxJqssu7wVnfeKCq8\"};\n",
       "\n",
       "    for (var i = 0; i < js_urls.length; i++) {\n",
       "      var url = js_urls[i];\n",
       "      var element = document.createElement('script');\n",
       "      element.onload = on_load;\n",
       "      element.onerror = on_error;\n",
       "      element.async = false;\n",
       "      element.src = url;\n",
       "      if (url in hashes) {\n",
       "        element.crossOrigin = \"anonymous\";\n",
       "        element.integrity = \"sha384-\" + hashes[url];\n",
       "      }\n",
       "      console.debug(\"Bokeh: injecting script tag for BokehJS library: \", url);\n",
       "      document.head.appendChild(element);\n",
       "    }\n",
       "  };\n",
       "\n",
       "  function inject_raw_css(css) {\n",
       "    const element = document.createElement(\"style\");\n",
       "    element.appendChild(document.createTextNode(css));\n",
       "    document.body.appendChild(element);\n",
       "  }\n",
       "\n",
       "  \n",
       "  var js_urls = [\"https://cdn.bokeh.org/bokeh/release/bokeh-2.2.3.min.js\", \"https://cdn.bokeh.org/bokeh/release/bokeh-widgets-2.2.3.min.js\", \"https://cdn.bokeh.org/bokeh/release/bokeh-tables-2.2.3.min.js\"];\n",
       "  var css_urls = [];\n",
       "  \n",
       "\n",
       "  var inline_js = [\n",
       "    function(Bokeh) {\n",
       "      Bokeh.set_log_level(\"info\");\n",
       "    },\n",
       "    function(Bokeh) {\n",
       "    \n",
       "    \n",
       "    }\n",
       "  ];\n",
       "\n",
       "  function run_inline_js() {\n",
       "    \n",
       "    if (root.Bokeh !== undefined || force === true) {\n",
       "      \n",
       "    for (var i = 0; i < inline_js.length; i++) {\n",
       "      inline_js[i].call(root, root.Bokeh);\n",
       "    }\n",
       "    if (force === true) {\n",
       "        display_loaded();\n",
       "      }} else if (Date.now() < root._bokeh_timeout) {\n",
       "      setTimeout(run_inline_js, 100);\n",
       "    } else if (!root._bokeh_failed_load) {\n",
       "      console.log(\"Bokeh: BokehJS failed to load within specified timeout.\");\n",
       "      root._bokeh_failed_load = true;\n",
       "    } else if (force !== true) {\n",
       "      var cell = $(document.getElementById(\"1001\")).parents('.cell').data().cell;\n",
       "      cell.output_area.append_execute_result(NB_LOAD_WARNING)\n",
       "    }\n",
       "\n",
       "  }\n",
       "\n",
       "  if (root._bokeh_is_loading === 0) {\n",
       "    console.debug(\"Bokeh: BokehJS loaded, going straight to plotting\");\n",
       "    run_inline_js();\n",
       "  } else {\n",
       "    load_libs(css_urls, js_urls, function() {\n",
       "      console.debug(\"Bokeh: BokehJS plotting callback run at\", now());\n",
       "      run_inline_js();\n",
       "    });\n",
       "  }\n",
       "}(window));"
      ],
      "application/vnd.bokehjs_load.v0+json": "\n(function(root) {\n  function now() {\n    return new Date();\n  }\n\n  var force = true;\n\n  if (typeof root._bokeh_onload_callbacks === \"undefined\" || force === true) {\n    root._bokeh_onload_callbacks = [];\n    root._bokeh_is_loading = undefined;\n  }\n\n  \n\n  \n  if (typeof (root._bokeh_timeout) === \"undefined\" || force === true) {\n    root._bokeh_timeout = Date.now() + 5000;\n    root._bokeh_failed_load = false;\n  }\n\n  var NB_LOAD_WARNING = {'data': {'text/html':\n     \"<div style='background-color: #fdd'>\\n\"+\n     \"<p>\\n\"+\n     \"BokehJS does not appear to have successfully loaded. If loading BokehJS from CDN, this \\n\"+\n     \"may be due to a slow or bad network connection. Possible fixes:\\n\"+\n     \"</p>\\n\"+\n     \"<ul>\\n\"+\n     \"<li>re-rerun `output_notebook()` to attempt to load from CDN again, or</li>\\n\"+\n     \"<li>use INLINE resources instead, as so:</li>\\n\"+\n     \"</ul>\\n\"+\n     \"<code>\\n\"+\n     \"from bokeh.resources import INLINE\\n\"+\n     \"output_notebook(resources=INLINE)\\n\"+\n     \"</code>\\n\"+\n     \"</div>\"}};\n\n  function display_loaded() {\n    var el = document.getElementById(\"1001\");\n    if (el != null) {\n      el.textContent = \"BokehJS is loading...\";\n    }\n    if (root.Bokeh !== undefined) {\n      if (el != null) {\n        el.textContent = \"BokehJS \" + root.Bokeh.version + \" successfully loaded.\";\n      }\n    } else if (Date.now() < root._bokeh_timeout) {\n      setTimeout(display_loaded, 100)\n    }\n  }\n\n\n  function run_callbacks() {\n    try {\n      root._bokeh_onload_callbacks.forEach(function(callback) {\n        if (callback != null)\n          callback();\n      });\n    } finally {\n      delete root._bokeh_onload_callbacks\n    }\n    console.debug(\"Bokeh: all callbacks have finished\");\n  }\n\n  function load_libs(css_urls, js_urls, callback) {\n    if (css_urls == null) css_urls = [];\n    if (js_urls == null) js_urls = [];\n\n    root._bokeh_onload_callbacks.push(callback);\n    if (root._bokeh_is_loading > 0) {\n      console.debug(\"Bokeh: BokehJS is being loaded, scheduling callback at\", now());\n      return null;\n    }\n    if (js_urls == null || js_urls.length === 0) {\n      run_callbacks();\n      return null;\n    }\n    console.debug(\"Bokeh: BokehJS not loaded, scheduling load and callback at\", now());\n    root._bokeh_is_loading = css_urls.length + js_urls.length;\n\n    function on_load() {\n      root._bokeh_is_loading--;\n      if (root._bokeh_is_loading === 0) {\n        console.debug(\"Bokeh: all BokehJS libraries/stylesheets loaded\");\n        run_callbacks()\n      }\n    }\n\n    function on_error() {\n      console.error(\"failed to load \" + url);\n    }\n\n    for (var i = 0; i < css_urls.length; i++) {\n      var url = css_urls[i];\n      const element = document.createElement(\"link\");\n      element.onload = on_load;\n      element.onerror = on_error;\n      element.rel = \"stylesheet\";\n      element.type = \"text/css\";\n      element.href = url;\n      console.debug(\"Bokeh: injecting link tag for BokehJS stylesheet: \", url);\n      document.body.appendChild(element);\n    }\n\n    const hashes = {\"https://cdn.bokeh.org/bokeh/release/bokeh-2.2.3.min.js\": \"T2yuo9Oe71Cz/I4X9Ac5+gpEa5a8PpJCDlqKYO0CfAuEszu1JrXLl8YugMqYe3sM\", \"https://cdn.bokeh.org/bokeh/release/bokeh-widgets-2.2.3.min.js\": \"98GDGJ0kOMCUMUePhksaQ/GYgB3+NH9h996V88sh3aOiUNX3N+fLXAtry6xctSZ6\", \"https://cdn.bokeh.org/bokeh/release/bokeh-tables-2.2.3.min.js\": \"89bArO+nlbP3sgakeHjCo1JYxYR5wufVgA3IbUvDY+K7w4zyxJqssu7wVnfeKCq8\"};\n\n    for (var i = 0; i < js_urls.length; i++) {\n      var url = js_urls[i];\n      var element = document.createElement('script');\n      element.onload = on_load;\n      element.onerror = on_error;\n      element.async = false;\n      element.src = url;\n      if (url in hashes) {\n        element.crossOrigin = \"anonymous\";\n        element.integrity = \"sha384-\" + hashes[url];\n      }\n      console.debug(\"Bokeh: injecting script tag for BokehJS library: \", url);\n      document.head.appendChild(element);\n    }\n  };\n\n  function inject_raw_css(css) {\n    const element = document.createElement(\"style\");\n    element.appendChild(document.createTextNode(css));\n    document.body.appendChild(element);\n  }\n\n  \n  var js_urls = [\"https://cdn.bokeh.org/bokeh/release/bokeh-2.2.3.min.js\", \"https://cdn.bokeh.org/bokeh/release/bokeh-widgets-2.2.3.min.js\", \"https://cdn.bokeh.org/bokeh/release/bokeh-tables-2.2.3.min.js\"];\n  var css_urls = [];\n  \n\n  var inline_js = [\n    function(Bokeh) {\n      Bokeh.set_log_level(\"info\");\n    },\n    function(Bokeh) {\n    \n    \n    }\n  ];\n\n  function run_inline_js() {\n    \n    if (root.Bokeh !== undefined || force === true) {\n      \n    for (var i = 0; i < inline_js.length; i++) {\n      inline_js[i].call(root, root.Bokeh);\n    }\n    if (force === true) {\n        display_loaded();\n      }} else if (Date.now() < root._bokeh_timeout) {\n      setTimeout(run_inline_js, 100);\n    } else if (!root._bokeh_failed_load) {\n      console.log(\"Bokeh: BokehJS failed to load within specified timeout.\");\n      root._bokeh_failed_load = true;\n    } else if (force !== true) {\n      var cell = $(document.getElementById(\"1001\")).parents('.cell').data().cell;\n      cell.output_area.append_execute_result(NB_LOAD_WARNING)\n    }\n\n  }\n\n  if (root._bokeh_is_loading === 0) {\n    console.debug(\"Bokeh: BokehJS loaded, going straight to plotting\");\n    run_inline_js();\n  } else {\n    load_libs(css_urls, js_urls, function() {\n      console.debug(\"Bokeh: BokehJS plotting callback run at\", now());\n      run_inline_js();\n    });\n  }\n}(window));"
     },
     "metadata": {},
     "output_type": "display_data"
    }
   ],
   "source": [
    "import math\n",
    "import pandas as pd\n",
    "import numpy as np\n",
    "from scipy import stats as st\n",
    "\n",
    "import matplotlib.pyplot as plt\n",
    "from pandas.plotting import register_matplotlib_converters\n",
    "register_matplotlib_converters()\n",
    "\n",
    "from bokeh.plotting import figure, show, output_file\n",
    "from bokeh.models import ColumnDataSource, Band\n",
    "from bokeh.io import output_notebook\n",
    "from bokeh.layouts import gridplot\n",
    "output_notebook()"
   ]
  },
  {
   "cell_type": "markdown",
   "metadata": {},
   "source": [
    "## Introduction\n",
    "\n",
    "In Notebook 2, we developed a rating curve for our location of interest based on discrete discharge measurements made during a series of visits, and we applied this stage-discharge relationship (rating curve) to the continous stage recorded at our hydrometric station (the datalogger recording from a pressure transducer).  \n",
    "\n",
    "Recall that our hydrometric station has only been running for a couple of years -- this isn't nearly enough data to estimate the **long term** flow characteristics (daily, seasonal, floods, droughts, etc.).  In this notebook, we look in the vicinity of our project location for other stations where records have been kept for much longer, i.e. several decades longer.  We can use concurrent data from nearby stations to develop a model to estimate flow for periods we didn't actually measure at our project location.\n",
    "\n",
    "First, we'll set up our rating curve as we did in Notebook 2 and rebuild the daily average flow series."
   ]
  },
  {
   "cell_type": "markdown",
   "metadata": {},
   "source": [
    "## Import the Data"
   ]
  },
  {
   "cell_type": "code",
   "execution_count": 2,
   "metadata": {},
   "outputs": [],
   "source": [
    "# import the stage data\n",
    "stage_df = pd.read_csv('../../Project_Data/Hidden_Creek_stage_data.csv', parse_dates=['Date'])\n",
    "stage_df.set_index('Date', inplace=True)\n",
    "\n",
    "stage_df.sort_index(inplace=True)\n",
    "stage_df['Value'] = stage_df['Value'].astype(float)"
   ]
  },
  {
   "cell_type": "code",
   "execution_count": 3,
   "metadata": {},
   "outputs": [
    {
     "data": {
      "text/html": [
       "<div>\n",
       "<style scoped>\n",
       "    .dataframe tbody tr th:only-of-type {\n",
       "        vertical-align: middle;\n",
       "    }\n",
       "\n",
       "    .dataframe tbody tr th {\n",
       "        vertical-align: top;\n",
       "    }\n",
       "\n",
       "    .dataframe thead th {\n",
       "        text-align: right;\n",
       "    }\n",
       "</style>\n",
       "<table border=\"1\" class=\"dataframe\">\n",
       "  <thead>\n",
       "    <tr style=\"text-align: right;\">\n",
       "      <th></th>\n",
       "      <th>ID</th>\n",
       "      <th>PARAM</th>\n",
       "      <th>year</th>\n",
       "      <th>month</th>\n",
       "      <th>day</th>\n",
       "      <th>Value</th>\n",
       "    </tr>\n",
       "    <tr>\n",
       "      <th>Date</th>\n",
       "      <th></th>\n",
       "      <th></th>\n",
       "      <th></th>\n",
       "      <th></th>\n",
       "      <th></th>\n",
       "      <th></th>\n",
       "    </tr>\n",
       "  </thead>\n",
       "  <tbody>\n",
       "    <tr>\n",
       "      <th>2010-08-25</th>\n",
       "      <td>00XX000</td>\n",
       "      <td>2</td>\n",
       "      <td>2010</td>\n",
       "      <td>8</td>\n",
       "      <td>25</td>\n",
       "      <td>0.830</td>\n",
       "    </tr>\n",
       "    <tr>\n",
       "      <th>2010-08-26</th>\n",
       "      <td>00XX000</td>\n",
       "      <td>2</td>\n",
       "      <td>2010</td>\n",
       "      <td>8</td>\n",
       "      <td>26</td>\n",
       "      <td>0.876</td>\n",
       "    </tr>\n",
       "    <tr>\n",
       "      <th>2010-08-27</th>\n",
       "      <td>00XX000</td>\n",
       "      <td>2</td>\n",
       "      <td>2010</td>\n",
       "      <td>8</td>\n",
       "      <td>27</td>\n",
       "      <td>1.160</td>\n",
       "    </tr>\n",
       "    <tr>\n",
       "      <th>2010-08-28</th>\n",
       "      <td>00XX000</td>\n",
       "      <td>2</td>\n",
       "      <td>2010</td>\n",
       "      <td>8</td>\n",
       "      <td>28</td>\n",
       "      <td>0.867</td>\n",
       "    </tr>\n",
       "    <tr>\n",
       "      <th>2010-08-29</th>\n",
       "      <td>00XX000</td>\n",
       "      <td>2</td>\n",
       "      <td>2010</td>\n",
       "      <td>8</td>\n",
       "      <td>29</td>\n",
       "      <td>0.711</td>\n",
       "    </tr>\n",
       "  </tbody>\n",
       "</table>\n",
       "</div>"
      ],
      "text/plain": [
       "                 ID  PARAM  year  month  day  Value\n",
       "Date                                               \n",
       "2010-08-25  00XX000      2  2010      8   25  0.830\n",
       "2010-08-26  00XX000      2  2010      8   26  0.876\n",
       "2010-08-27  00XX000      2  2010      8   27  1.160\n",
       "2010-08-28  00XX000      2  2010      8   28  0.867\n",
       "2010-08-29  00XX000      2  2010      8   29  0.711"
      ]
     },
     "execution_count": 3,
     "metadata": {},
     "output_type": "execute_result"
    }
   ],
   "source": [
    "# take a quick look at what we're dealing with\n",
    "stage_df.head()"
   ]
  },
  {
   "cell_type": "code",
   "execution_count": 4,
   "metadata": {},
   "outputs": [
    {
     "data": {
      "image/png": "[encoded data removed]",
      "text/plain": [
       "<Figure size 432x288 with 1 Axes>"
      ]
     },
     "metadata": {
      "filenames": {
       "image/png": "/home/steven/code/Engineering_Hydrology_Notebooks/content/_build/jupyter_execute/notebooks/Notebook_4/Notebook_4_6_0.png"
      },
      "needs_background": "light"
     },
     "output_type": "display_data"
    }
   ],
   "source": [
    "plt.plot(stage_df.index, stage_df['Value'])\n",
    "plt.show()"
   ]
  },
  {
   "cell_type": "code",
   "execution_count": 5,
   "metadata": {},
   "outputs": [],
   "source": [
    "# the water level (stage) label is long, \n",
    "# let's create a shortcut reference label\n",
    "stage_label = 'water level (m above 0 flow ref)'\n",
    "flow_label = 'Flow (m^3/s)'\n"
   ]
  },
  {
   "cell_type": "code",
   "execution_count": 6,
   "metadata": {},
   "outputs": [],
   "source": [
    "# import the discharge measurements\n",
    "rc_df = pd.read_csv('../../Project_Data/Project_QH_table_2021.csv', parse_dates=['Date'])"
   ]
  },
  {
   "cell_type": "code",
   "execution_count": 7,
   "metadata": {},
   "outputs": [
    {
     "data": {
      "text/html": [
       "<div>\n",
       "<style scoped>\n",
       "    .dataframe tbody tr th:only-of-type {\n",
       "        vertical-align: middle;\n",
       "    }\n",
       "\n",
       "    .dataframe tbody tr th {\n",
       "        vertical-align: top;\n",
       "    }\n",
       "\n",
       "    .dataframe thead th {\n",
       "        text-align: right;\n",
       "    }\n",
       "</style>\n",
       "<table border=\"1\" class=\"dataframe\">\n",
       "  <thead>\n",
       "    <tr style=\"text-align: right;\">\n",
       "      <th></th>\n",
       "      <th>Date</th>\n",
       "      <th>Flow (m^3/s)</th>\n",
       "      <th>water level (m above 0 flow ref)</th>\n",
       "    </tr>\n",
       "  </thead>\n",
       "  <tbody>\n",
       "    <tr>\n",
       "      <th>0</th>\n",
       "      <td>2010-12-24</td>\n",
       "      <td>4.340</td>\n",
       "      <td>1.130</td>\n",
       "    </tr>\n",
       "    <tr>\n",
       "      <th>1</th>\n",
       "      <td>2011-01-11</td>\n",
       "      <td>0.217</td>\n",
       "      <td>0.149</td>\n",
       "    </tr>\n",
       "    <tr>\n",
       "      <th>2</th>\n",
       "      <td>2011-05-04</td>\n",
       "      <td>3.470</td>\n",
       "      <td>1.020</td>\n",
       "    </tr>\n",
       "    <tr>\n",
       "      <th>3</th>\n",
       "      <td>2011-09-19</td>\n",
       "      <td>4.280</td>\n",
       "      <td>0.966</td>\n",
       "    </tr>\n",
       "    <tr>\n",
       "      <th>4</th>\n",
       "      <td>2011-10-24</td>\n",
       "      <td>4.510</td>\n",
       "      <td>1.070</td>\n",
       "    </tr>\n",
       "    <tr>\n",
       "      <th>5</th>\n",
       "      <td>2011-12-17</td>\n",
       "      <td>0.997</td>\n",
       "      <td>0.443</td>\n",
       "    </tr>\n",
       "    <tr>\n",
       "      <th>6</th>\n",
       "      <td>2012-01-26</td>\n",
       "      <td>2.480</td>\n",
       "      <td>0.648</td>\n",
       "    </tr>\n",
       "    <tr>\n",
       "      <th>7</th>\n",
       "      <td>2012-02-18</td>\n",
       "      <td>1.330</td>\n",
       "      <td>0.624</td>\n",
       "    </tr>\n",
       "    <tr>\n",
       "      <th>8</th>\n",
       "      <td>2012-02-24</td>\n",
       "      <td>1.540</td>\n",
       "      <td>0.516</td>\n",
       "    </tr>\n",
       "  </tbody>\n",
       "</table>\n",
       "</div>"
      ],
      "text/plain": [
       "        Date  Flow (m^3/s)  water level (m above 0 flow ref)\n",
       "0 2010-12-24         4.340                             1.130\n",
       "1 2011-01-11         0.217                             0.149\n",
       "2 2011-05-04         3.470                             1.020\n",
       "3 2011-09-19         4.280                             0.966\n",
       "4 2011-10-24         4.510                             1.070\n",
       "5 2011-12-17         0.997                             0.443\n",
       "6 2012-01-26         2.480                             0.648\n",
       "7 2012-02-18         1.330                             0.624\n",
       "8 2012-02-24         1.540                             0.516"
      ]
     },
     "execution_count": 7,
     "metadata": {},
     "output_type": "execute_result"
    }
   ],
   "source": [
    "# take a look at the discharge measurements\n",
    "rc_df"
   ]
  },
  {
   "cell_type": "markdown",
   "metadata": {},
   "source": [
    "## Plot the Stage-Discharge Rating Curve and the Best Fit Curve\n",
    "\n",
    "Recall from Notebook 2: $Q = C(H-h_0)^b$.  If we transform the data to log space, we get a linear relationship:\n",
    "\n",
    "$$log(Q) = log(C) + b\\cdot log(h-h_0)$$\n",
    "\n",
    "If we rearrange to the form $y = intercept + slope \\cdot x$, we can use the scipy function for linear regression (`\n",
    "()` from the previous tutorial).\n",
    "\n",
    "Recall the x and y axis parameters are Q and h, respectively, so the linear form of the equation is then: \n",
    "\n",
    "$$log(h-h_0) = slope \\cdot log(Q) + intercept$$\n",
    "\n",
    "The above relationship is linear, so we can use ordinary least squares to find the best fit line (in log-log space), and then transform back to linear space.\n",
    "Note that $h_0$ cannot be fitted this way, and has to be set manually. In this case we can assume $h_0=0$."
   ]
  },
  {
   "cell_type": "code",
   "execution_count": 8,
   "metadata": {},
   "outputs": [],
   "source": [
    "# calculate the discharge based on the best fit\n",
    "# parameters found by ordinary least squares above\n",
    "def ols_rc_q(slope, intercept, h, h0):\n",
    "    \"\"\"\n",
    "    Calculate flow (Q) from the linear best fit parameters.\n",
    "        -slope: the `log_slope` calculated above (constant)\n",
    "        -intercept: `log_intercept` calculated above (constant)\n",
    "        -h0 is the same PZF offset used above (constant)\n",
    "        -h is the independent variable\n",
    "    Returns Q, the discharge in m^3/s.\n",
    "    \"\"\"\n",
    "    if slope == 0:\n",
    "        return 0\n",
    "    try:\n",
    "        return np.exp((np.log(h - h0) - intercept) / slope)\n",
    "    except ValueError: \n",
    "        return None"
   ]
  },
  {
   "cell_type": "code",
   "execution_count": 9,
   "metadata": {},
   "outputs": [],
   "source": [
    "# Find the best-fit line in log-log space\n",
    "# take the logarithm of the measured streamflows and stage\n",
    "h0=0\n",
    "q_log = np.log(rc_df[flow_label] - h0)\n",
    "stage_log = np.log(rc_df[stage_label])\n",
    "\n",
    "# find the parameters describing the linear best fit using ordinary least squares (OLS)\n",
    "log_slope, log_intercept, log_rval, log_pval, log_stderr = st.linregress(q_log, stage_log)"
   ]
  },
  {
   "cell_type": "code",
   "execution_count": 10,
   "metadata": {},
   "outputs": [],
   "source": [
    "stage_range = np.linspace(0.001, 1.5, 100)\n",
    "# put best fit results into a dataframe for plotting\n",
    "# use 0 as the PZF (point of zero flow) (the h0 parameter)\n",
    "bf_df = pd.DataFrame()\n",
    "bf_df['stage'] = stage_range\n",
    "\n",
    "# now as before, apply the `ols_rc_q` function to create the stage-discharge\n",
    "# curve based on the best-fit equation\n",
    "bf_df['best_fit_q'] = [ols_rc_q(log_slope, log_intercept, h, 0.0) for h in stage_range]\n",
    "bf_df.sort_values(by='stage', inplace=True)"
   ]
  },
  {
   "cell_type": "markdown",
   "metadata": {},
   "source": [
    "## Calculate Daily Average Discharge\n",
    "\n",
    "From the equation describing the ordinary least squares (OLS) best fit of the measured discharge,\n",
    "calculate daily average flow from daily average water level."
   ]
  },
  {
   "cell_type": "code",
   "execution_count": 11,
   "metadata": {},
   "outputs": [],
   "source": [
    "stage_df['RC Q (cms)'] = stage_df['Value'].apply(lambda h: ols_rc_q(log_slope, log_intercept, h, 0))\n",
    "stage_df['Date'] = stage_df.apply(lambda row: pd.to_datetime('{}-{}-{}'.format(row['year'], \n",
    "                                                                               row['month'],\n",
    "                                                                              row['day'])), axis=1)"
   ]
  },
  {
   "cell_type": "code",
   "execution_count": 12,
   "metadata": {},
   "outputs": [
    {
     "data": {
      "text/html": [
       "<div>\n",
       "<style scoped>\n",
       "    .dataframe tbody tr th:only-of-type {\n",
       "        vertical-align: middle;\n",
       "    }\n",
       "\n",
       "    .dataframe tbody tr th {\n",
       "        vertical-align: top;\n",
       "    }\n",
       "\n",
       "    .dataframe thead th {\n",
       "        text-align: right;\n",
       "    }\n",
       "</style>\n",
       "<table border=\"1\" class=\"dataframe\">\n",
       "  <thead>\n",
       "    <tr style=\"text-align: right;\">\n",
       "      <th></th>\n",
       "      <th>ID</th>\n",
       "      <th>PARAM</th>\n",
       "      <th>year</th>\n",
       "      <th>month</th>\n",
       "      <th>day</th>\n",
       "      <th>Value</th>\n",
       "      <th>RC Q (cms)</th>\n",
       "      <th>Date</th>\n",
       "    </tr>\n",
       "    <tr>\n",
       "      <th>Date</th>\n",
       "      <th></th>\n",
       "      <th></th>\n",
       "      <th></th>\n",
       "      <th></th>\n",
       "      <th></th>\n",
       "      <th></th>\n",
       "      <th></th>\n",
       "      <th></th>\n",
       "    </tr>\n",
       "  </thead>\n",
       "  <tbody>\n",
       "    <tr>\n",
       "      <th>2010-08-25</th>\n",
       "      <td>00XX000</td>\n",
       "      <td>2</td>\n",
       "      <td>2010</td>\n",
       "      <td>8</td>\n",
       "      <td>25</td>\n",
       "      <td>0.830</td>\n",
       "      <td>2.899688</td>\n",
       "      <td>2010-08-25</td>\n",
       "    </tr>\n",
       "    <tr>\n",
       "      <th>2010-08-26</th>\n",
       "      <td>00XX000</td>\n",
       "      <td>2</td>\n",
       "      <td>2010</td>\n",
       "      <td>8</td>\n",
       "      <td>26</td>\n",
       "      <td>0.876</td>\n",
       "      <td>3.155593</td>\n",
       "      <td>2010-08-26</td>\n",
       "    </tr>\n",
       "    <tr>\n",
       "      <th>2010-08-27</th>\n",
       "      <td>00XX000</td>\n",
       "      <td>2</td>\n",
       "      <td>2010</td>\n",
       "      <td>8</td>\n",
       "      <td>27</td>\n",
       "      <td>1.160</td>\n",
       "      <td>4.901088</td>\n",
       "      <td>2010-08-27</td>\n",
       "    </tr>\n",
       "    <tr>\n",
       "      <th>2010-08-28</th>\n",
       "      <td>00XX000</td>\n",
       "      <td>2</td>\n",
       "      <td>2010</td>\n",
       "      <td>8</td>\n",
       "      <td>28</td>\n",
       "      <td>0.867</td>\n",
       "      <td>3.104910</td>\n",
       "      <td>2010-08-28</td>\n",
       "    </tr>\n",
       "    <tr>\n",
       "      <th>2010-08-29</th>\n",
       "      <td>00XX000</td>\n",
       "      <td>2</td>\n",
       "      <td>2010</td>\n",
       "      <td>8</td>\n",
       "      <td>29</td>\n",
       "      <td>0.711</td>\n",
       "      <td>2.274967</td>\n",
       "      <td>2010-08-29</td>\n",
       "    </tr>\n",
       "    <tr>\n",
       "      <th>...</th>\n",
       "      <td>...</td>\n",
       "      <td>...</td>\n",
       "      <td>...</td>\n",
       "      <td>...</td>\n",
       "      <td>...</td>\n",
       "      <td>...</td>\n",
       "      <td>...</td>\n",
       "      <td>...</td>\n",
       "    </tr>\n",
       "    <tr>\n",
       "      <th>2012-06-27</th>\n",
       "      <td>00XX000</td>\n",
       "      <td>2</td>\n",
       "      <td>2012</td>\n",
       "      <td>6</td>\n",
       "      <td>27</td>\n",
       "      <td>1.950</td>\n",
       "      <td>11.065578</td>\n",
       "      <td>2012-06-27</td>\n",
       "    </tr>\n",
       "    <tr>\n",
       "      <th>2012-06-28</th>\n",
       "      <td>00XX000</td>\n",
       "      <td>2</td>\n",
       "      <td>2012</td>\n",
       "      <td>6</td>\n",
       "      <td>28</td>\n",
       "      <td>2.000</td>\n",
       "      <td>11.513670</td>\n",
       "      <td>2012-06-28</td>\n",
       "    </tr>\n",
       "    <tr>\n",
       "      <th>2012-06-29</th>\n",
       "      <td>00XX000</td>\n",
       "      <td>2</td>\n",
       "      <td>2012</td>\n",
       "      <td>6</td>\n",
       "      <td>29</td>\n",
       "      <td>2.380</td>\n",
       "      <td>15.123902</td>\n",
       "      <td>2012-06-29</td>\n",
       "    </tr>\n",
       "    <tr>\n",
       "      <th>2012-06-30</th>\n",
       "      <td>00XX000</td>\n",
       "      <td>2</td>\n",
       "      <td>2012</td>\n",
       "      <td>6</td>\n",
       "      <td>30</td>\n",
       "      <td>2.710</td>\n",
       "      <td>18.538791</td>\n",
       "      <td>2012-06-30</td>\n",
       "    </tr>\n",
       "    <tr>\n",
       "      <th>2012-07-01</th>\n",
       "      <td>00XX000</td>\n",
       "      <td>2</td>\n",
       "      <td>2012</td>\n",
       "      <td>7</td>\n",
       "      <td>1</td>\n",
       "      <td>3.020</td>\n",
       "      <td>21.970086</td>\n",
       "      <td>2012-07-01</td>\n",
       "    </tr>\n",
       "  </tbody>\n",
       "</table>\n",
       "<p>677 rows × 8 columns</p>\n",
       "</div>"
      ],
      "text/plain": [
       "                 ID  PARAM  year  month  day  Value  RC Q (cms)       Date\n",
       "Date                                                                      \n",
       "2010-08-25  00XX000      2  2010      8   25  0.830    2.899688 2010-08-25\n",
       "2010-08-26  00XX000      2  2010      8   26  0.876    3.155593 2010-08-26\n",
       "2010-08-27  00XX000      2  2010      8   27  1.160    4.901088 2010-08-27\n",
       "2010-08-28  00XX000      2  2010      8   28  0.867    3.104910 2010-08-28\n",
       "2010-08-29  00XX000      2  2010      8   29  0.711    2.274967 2010-08-29\n",
       "...             ...    ...   ...    ...  ...    ...         ...        ...\n",
       "2012-06-27  00XX000      2  2012      6   27  1.950   11.065578 2012-06-27\n",
       "2012-06-28  00XX000      2  2012      6   28  2.000   11.513670 2012-06-28\n",
       "2012-06-29  00XX000      2  2012      6   29  2.380   15.123902 2012-06-29\n",
       "2012-06-30  00XX000      2  2012      6   30  2.710   18.538791 2012-06-30\n",
       "2012-07-01  00XX000      2  2012      7    1  3.020   21.970086 2012-07-01\n",
       "\n",
       "[677 rows x 8 columns]"
      ]
     },
     "execution_count": 12,
     "metadata": {},
     "output_type": "execute_result"
    }
   ],
   "source": [
    "stage_df"
   ]
  },
  {
   "cell_type": "markdown",
   "metadata": {},
   "source": [
    "### Plot the Rating Curve and Resultant Flow Series"
   ]
  },
  {
   "cell_type": "markdown",
   "metadata": {},
   "source": [
    "The two plots below are linked.  Check the selection tools, and select points on one plot.  When validating data, it is helpful to be able to link the measurements on the rating curve plot and the daily flow series plot.  Consider how you would you check if the low flows were subject to a shift in the hydraulic control over time?    "
   ]
  },
  {
   "cell_type": "code",
   "execution_count": 13,
   "metadata": {},
   "outputs": [
    {
     "data": {
      "text/html": [
       "\n",
       "\n",
       "\n",
       "\n",
       "\n",
       "\n",
       "<div class=\"bk-root\" id=\"4da6259a-6dff-40e0-8e90-e088754cf5e7\" data-root-id=\"1197\"></div>\n"
      ]
     },
     "metadata": {},
     "output_type": "display_data"
    },
    {
     "data": {
      "application/javascript": [
       "(function(root) {\n",
       "  function embed_document(root) {\n",
       "    \n",
       "  var docs_json = {\"bb285bdd-4523-4592-9ef9-f1791366809e\":{\"roots\":{\"references\":[{\"attributes\":{\"children\":[{\"id\":\"1196\"},{\"id\":\"1194\"}]},\"id\":\"1197\",\"type\":\"Column\"},{\"attributes\":{\"fill_alpha\":{\"value\":0.8},\"fill_color\":{\"value\":\"red\"},\"line_alpha\":{\"value\":0.8},\"line_color\":{\"value\":\"red\"},\"size\":{\"units\":\"screen\",\"value\":5},\"x\":{\"field\":\"Date\"},\"y\":{\"field\":\"Flow (m^3/s)\"}},\"id\":\"1132\",\"type\":\"Circle\"},{\"attributes\":{\"line_color\":\"green\",\"x\":{\"field\":\"x\"},\"y\":{\"field\":\"y\"}},\"id\":\"1055\",\"type\":\"Line\"},{\"attributes\":{\"below\":[{\"id\":\"1082\"}],\"center\":[{\"id\":\"1085\"},{\"id\":\"1089\"},{\"id\":\"1129\"}],\"left\":[{\"id\":\"1086\"}],\"plot_height\":400,\"plot_width\":550,\"renderers\":[{\"id\":\"1107\"},{\"id\":\"1134\"}],\"title\":{\"id\":\"1072\"},\"toolbar\":{\"id\":\"1097\"},\"toolbar_location\":null,\"x_range\":{\"id\":\"1074\"},\"x_scale\":{\"id\":\"1078\"},\"y_range\":{\"id\":\"1076\"},\"y_scale\":{\"id\":\"1080\"}},\"id\":\"1071\",\"subtype\":\"Figure\",\"type\":\"Plot\"},{\"attributes\":{\"fill_alpha\":{\"value\":0.5},\"fill_color\":{\"value\":\"red\"},\"line_alpha\":{\"value\":0.5},\"line_color\":{\"value\":\"red\"},\"size\":{\"units\":\"screen\",\"value\":5},\"x\":{\"field\":\"Flow (m^3/s)\"},\"y\":{\"field\":\"water level (m above 0 flow ref)\"}},\"id\":\"1039\",\"type\":\"Circle\"},{\"attributes\":{\"data\":{\"x\":{\"__ndarray__\":\"s43/MfIjFD9yVJJ0cqZ4P72uELkJZJE/LOTuBZgloD9cf3Tm6CKpP2XeqV7yvbE/uEDKGVaItz9aas9kteS9P7P0vUbZZMI/w9W/tNYXxj/f9rhEIwjKP1UQQmEHM84/uwu+JRRL0T+/l8tpupfTP5RZ1qOL/tU/t9ZMdLV+2D/+flXqeRfbP6k6IFssyN0/M4CdbxdI4D9HxS0meLfhP4efEUf1MeM/YKlBpFC35D/fnQBaUEfmP3YyBlS+4ec/EYw05WeG6T9BsmFuHTXrP085gRGy7ew/pHMMb/uv7j8tM/u16D3wP8f0Zv+GKPE/sTt5gcYX8j8X/HkIlgvzP/1mry3lA/Q/GQSrR6QA9T/B8TtcxAH2P8D6zhM3B/c/ztcNru4Q+D9nCpb33R75PxuYpUD4MPo/RcigVDFH+z/4EVhyfWH8P4LM+ETRf/0/SxCW3SGi/j82oDmtZMj/P8Bgt79HeQBAF1SdOkwQAUD3zjsAO6kBQKipxG8PRAJAuvOwDMXgAkBXFOh8V38DQAozCIfCHwRAFvLMEALCBECX1JEdEmYFQN/x7czuCwZA7tVmWZSzBkDUpTgX/1wHQHTPMXMrCAhA6bag8RW1CEDn+VEtu2MJQGcDntYXFApAy8eEsijGCkC+nNaZ6nkLQBY4aXhaLwxAVvZXTHXmDEAXnU4lOJ8NQJXe3SOgWQ5ApvPYeKoVD0A5r7tkVNMPQLU9jJtNSRBAxt0GJ76pEECvDOGK+goRQFmm84MBbRFA53qh1dHPEUAplZ5JajMSQA0uuq/JlxJAuSOr3e78EkBHzt6u2GITQK8OSgSGyRNA3nY8xPUwFEB8bDXaJpkUQNMpuzYYAhVAMoIzz8hrFUApUb6dN9YVQFt9EaFjQRZAYHlW3EutFkBwLglX7xkXQAA+2BxNhxdAc4iGPWT1F0CC6M3MM2QYQHUTQ+K60xhA4Y86mfhDGUDftK4Q7LQZQA+lJmuUJhpAFzmezvCYGkA9zm5kAAwbQEruOFnCfxtArsbO3DX0G0AHZR8iWmkcQFKwIl8u3xxADRbGzLFVHUA=\",\"dtype\":\"float64\",\"order\":\"little\",\"shape\":[100]},\"y\":{\"__ndarray__\":\"/Knx0k1iUD9m7mT3X4eQPxZhzYhNBKA/+UroFevEpz/cNAOjiIWvP2APDxgTo7M/UYSc3mGDtz9C+SmlsGO7PzRut2v/Q78/k3EiGSeSwT8MLGl8ToLDP4Tmr991csU//aD2Qp1ixz92Wz2mxFLJP+4VhAnsQss/Z9DKbBMzzT/gihHQOiPPP6wirBmxidA/6X9Py8SB0T8l3fJ82HnSP2I6li7scdM/npc54P9p1D/a9NyRE2LVPxdSgEMnWtY/U68j9TpS1z+PDMemTkrYP8xpalhiQtk/CMcNCnY62j9EJLG7iTLbP4GBVG2dKtw/vd73HrEi3T/6O5vQxBrePzaZPoLYEt8/OfvwGXYF4D/XqcLyf4HgP3ZYlMuJ/eA/FAdmpJN54T+ytTd9nfXhP1BkCVanceI/7hLbLrHt4j+NwawHu2njPytwfuDE5eM/yR5Quc5h5D9nzSGS2N3kPwV882riWeU/oyrFQ+zV5T9C2ZYc9lHmP+CHaPX/zeY/fjY6zglK5z8c5QunE8bnP7qT3X8dQug/WUKvWCe+6D/38IAxMTrpP5WfUgo7tuk/M04k40Qy6j/R/PW7Tq7qP2+rx5RYKus/DlqZbWKm6z+sCGtGbCLsP0q3PB92nuw/6GUO+H8a7T+GFODQiZbtPyXDsamTEu4/w3GDgp2O7j9hIFVbpwrvP//OJjSxhu8/zj58hl0B8D8dFuVyYj/wP2ztTV9nffA/u8S2S2y78D8LnB84cfnwP1pziCR2N/E/qUrxEHt18T/4IVr9f7PxP0f5wumE8fE/ltAr1okv8j/lp5TCjm3yPzR//a6Tq/I/g1Zmm5jp8j/SLc+HnSfzPyIFOHSiZfM/cdygYKej8z/AswlNrOHzPw+LcjmxH/Q/XmLbJbZd9D+tOUQSu5v0P/wQrf6/2fQ/S+gV68QX9T+av37XyVX1P+mW58POk/U/OG5QsNPR9T+IRbmc2A/2P9ccIondTfY/JvSKdeKL9j91y/Nh58n2P8SiXE7sB/c/E3rFOvFF9z9iUS4n9oP3P7EolxP7wfc/AAAAAAAA+D8=\",\"dtype\":\"float64\",\"order\":\"little\",\"shape\":[100]}},\"selected\":{\"id\":\"1067\"},\"selection_policy\":{\"id\":\"1066\"}},\"id\":\"1054\",\"type\":\"ColumnDataSource\"},{\"attributes\":{\"data_source\":{\"id\":\"1054\"},\"glyph\":{\"id\":\"1055\"},\"hover_glyph\":null,\"muted_glyph\":null,\"nonselection_glyph\":{\"id\":\"1056\"},\"selection_glyph\":null,\"view\":{\"id\":\"1058\"}},\"id\":\"1057\",\"type\":\"GlyphRenderer\"},{\"attributes\":{\"line_color\":\"dodgerblue\",\"x\":{\"field\":\"Date\"},\"y\":{\"field\":\"RC Q (cms)\"}},\"id\":\"1105\",\"type\":\"Line\"},{\"attributes\":{\"label\":{\"value\":\"OLS Fit\"},\"renderers\":[{\"id\":\"1057\"}]},\"id\":\"1070\",\"type\":\"LegendItem\"},{\"attributes\":{\"line_alpha\":0.1,\"line_color\":\"green\",\"x\":{\"field\":\"x\"},\"y\":{\"field\":\"y\"}},\"id\":\"1056\",\"type\":\"Line\"},{\"attributes\":{\"source\":{\"id\":\"1054\"}},\"id\":\"1058\",\"type\":\"CDSView\"},{\"attributes\":{},\"id\":\"1074\",\"type\":\"DataRange1d\"},{\"attributes\":{\"items\":[{\"id\":\"1130\"},{\"id\":\"1158\"}],\"location\":\"top_left\"},\"id\":\"1129\",\"type\":\"Legend\"},{\"attributes\":{\"source\":{\"id\":\"1003\"}},\"id\":\"1108\",\"type\":\"CDSView\"},{\"attributes\":{\"children\":[[{\"id\":\"1004\"},0,0],[{\"id\":\"1071\"},0,1]]},\"id\":\"1194\",\"type\":\"GridBox\"},{\"attributes\":{\"line_alpha\":0.1,\"line_color\":\"dodgerblue\",\"x\":{\"field\":\"Date\"},\"y\":{\"field\":\"RC Q (cms)\"}},\"id\":\"1106\",\"type\":\"Line\"},{\"attributes\":{\"label\":{\"value\":\"OLS-based RC Flow\"},\"renderers\":[{\"id\":\"1107\"}]},\"id\":\"1130\",\"type\":\"LegendItem\"},{\"attributes\":{\"source\":{\"id\":\"1002\"}},\"id\":\"1135\",\"type\":\"CDSView\"},{\"attributes\":{},\"id\":\"1066\",\"type\":\"UnionRenderers\"},{\"attributes\":{\"fill_alpha\":{\"value\":0.1},\"fill_color\":{\"value\":\"red\"},\"line_alpha\":{\"value\":0.1},\"line_color\":{\"value\":\"red\"},\"size\":{\"units\":\"screen\",\"value\":5},\"x\":{\"field\":\"Date\"},\"y\":{\"field\":\"Flow (m^3/s)\"}},\"id\":\"1133\",\"type\":\"Circle\"},{\"attributes\":{},\"id\":\"1067\",\"type\":\"Selection\"},{\"attributes\":{\"data\":{\"Date\":{\"__ndarray__\":\"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\",\"dtype\":\"float64\",\"order\":\"little\",\"shape\":[677]},\"ID\":[\"00XX000\",\"00XX000\",\"00XX000\",\"00XX000\",\"00XX000\",\"00XX000\",\"00XX000\",\"00XX000\",\"00XX000\",\"00XX000\",\"00XX000\",\"00XX000\",\"00XX000\",\"00XX000\",\"00XX000\",\"00XX000\",\"00XX000\",\"00XX000\",\"00XX000\",\"00XX000\",\"00XX000\",\"00XX000\",\"00XX000\",\"00XX000\",\"00XX000\",\"00XX000\",\"00XX000\",\"00XX000\",\"00XX000\",\"00XX000\",\"00XX000\",\"00XX000\",\"00XX000\",\"00XX000\",\"00XX000\",\"00XX000\",\"00XX000\",\"00XX000\",\"00XX000\",\"00XX000\",\"00XX000\",\"00XX000\",\"00XX000\",\"00XX000\",\"00XX000\",\"00XX000\",\"00XX000\",\"00XX000\",\"00XX000\",\"00XX000\",\"00XX000\",\"00XX000\",\"00XX000\",\"00XX000\",\"00XX000\",\"00XX000\",\"00XX000\",\"00XX000\",\"00XX000\",\"00XX000\",\"00XX000\",\"00XX000\",\"00XX000\",\"00XX000\",\"00XX000\",\"00XX000\",\"00XX000\",\"00XX000\",\"00XX000\",\"00XX000\",\"00XX000\",\"00XX000\",\"00XX000\",\"00XX000\",\"00XX000\",\"00XX000\",\"00XX000\",\"00XX000\",\"00XX000\",\"00XX000\",\"00XX000\",\"00XX000\",\"00XX000\",\"00XX000\",\"00XX000\",\"00XX000\",\"00XX000\",\"00XX000\",\"00XX000\",\"00XX000\",\"00XX000\",\"00XX000\",\"00XX000\",\"00XX000\",\"00XX000\",\"00XX000\",\"00XX000\",\"00XX000\",\"00XX000\",\"00XX000\",\"00XX000\",\"00XX000\",\"00XX000\",\"00XX000\",\"00XX000\",\"00XX000\",\"00XX000\",\"00XX000\",\"00XX000\",\"00XX000\",\"00XX000\",\"00XX000\",\"00XX000\",\"00XX000\",\"00XX000\",\"00XX000\",\"00XX000\",\"00XX000\",\"00XX000\",\"00XX000\",\"00XX000\",\"00XX000\",\"00XX000\",\"00XX000\",\"00XX000\",\"00XX000\",\"00XX000\",\"00XX000\",\"00XX000\",\"00XX000\",\"00XX000\",\"00XX000\",\"00XX000\",\"00XX000\",\"00XX000\",\"00XX000\",\"00XX000\",\"00XX000\",\"00XX000\",\"00XX000\",\"00XX000\",\"00XX000\",\"00XX000\",\"00XX000\",\"00XX000\",\"00XX000\",\"00XX000\",\"00XX000\",\"00XX000\",\"00XX000\",\"00XX000\",\"00XX000\",\"00XX000\",\"00XX000\",\"00XX000\",\"00XX000\",\"00XX000\",\"00XX000\",\"00XX000\",\"00XX000\",\"00XX000\",\"00XX000\",\"00XX000\",\"00XX000\",\"00XX000\",\"00XX000\",\"00XX000\",\"00XX000\",\"00XX000\",\"00XX000\",\"00XX000\",\"00XX000\",\"00XX000\",\"00XX000\",\"00XX000\",\"00XX000\",\"00XX000\",\"00XX000\",\"00XX000\",\"00XX000\",\"00XX000\",\"00XX000\",\"00XX000\",\"00XX000\",\"00XX000\",\"00XX000\",\"00XX000\",\"00XX000\",\"00XX000\",\"00XX000\",\"00XX000\",\"00XX000\",\"00XX000\",\"00XX000\",\"00XX000\",\"00XX000\",\"00XX000\",\"00XX000\",\"00XX000\",\"00XX000\",\"00XX000\",\"00XX000\",\"00XX000\",\"00XX000\",\"00XX000\",\"00XX000\",\"00XX000\",\"00XX000\",\"00XX000\",\"00XX000\",\"00XX000\",\"00XX000\",\"00XX000\",\"00XX000\",\"00XX000\",\"00XX000\",\"00XX000\",\"00XX000\",\"00XX000\",\"00XX000\",\"00XX000\",\"00XX000\",\"00XX000\",\"00XX000\",\"00XX000\",\"00XX000\",\"00XX000\",\"00XX000\",\"00XX000\",\"00XX000\",\"00XX000\",\"00XX000\",\"00XX000\",\"00XX000\",\"00XX000\",\"00XX000\",\"00XX000\",\"00XX000\",\"00XX000\",\"00XX000\",\"00XX000\",\"00XX000\",\"00XX000\",\"00XX000\",\"00XX000\",\"00XX000\",\"00XX000\",\"00XX000\",\"00XX000\",\"00XX000\",\"00XX000\",\"00XX000\",\"00XX000\",\"00XX000\",\"00XX000\",\"00XX000\",\"00XX000\",\"00XX000\",\"00XX000\",\"00XX000\",\"00XX000\",\"00XX000\",\"00XX000\",\"00XX000\",\"00XX000\",\"00XX000\",\"00XX000\",\"00XX000\",\"00XX000\",\"00XX000\",\"00XX000\",\"00XX000\",\"00XX000\",\"00XX000\",\"00XX000\",\"00XX000\",\"00XX000\",\"00XX000\",\"00XX000\",\"00XX000\",\"00XX000\",\"00XX000\",\"00XX000\",\"00XX000\",\"00XX000\",\"00XX000\",\"00XX000\",\"00XX000\",\"00XX000\",\"00XX000\",\"00XX000\",\"00XX000\",\"00XX000\",\"00XX000\",\"00XX000\",\"00XX000\",\"00XX000\",\"00XX000\",\"00XX000\",\"00XX000\",\"00XX000\",\"00XX000\",\"00XX000\",\"00XX000\",\"00XX000\",\"00XX000\",\"00XX000\",\"00XX000\",\"00XX000\",\"00XX000\",\"00XX000\",\"00XX000\",\"00XX000\",\"00XX000\",\"00XX000\",\"00XX000\",\"00XX000\",\"00XX000\",\"00XX000\",\"00XX000\",\"00XX000\",\"00XX000\",\"00XX000\",\"00XX000\",\"00XX000\",\"00XX000\",\"00XX000\",\"00XX000\",\"00XX000\",\"00XX000\",\"00XX000\",\"00XX000\",\"00XX000\",\"00XX000\",\"00XX000\",\"00XX000\",\"00XX000\",\"00XX000\",\"00XX000\",\"00XX000\",\"00XX000\",\"00XX000\",\"00XX000\",\"00XX000\",\"00XX000\",\"00XX000\",\"00XX000\",\"00XX000\",\"00XX000\",\"00XX000\",\"00XX000\",\"00XX000\",\"00XX000\",\"00XX000\",\"00XX000\",\"00XX000\",\"00XX000\",\"00XX000\",\"00XX000\",\"00XX000\",\"00XX000\",\"00XX000\",\"00XX000\",\"00XX000\",\"00XX000\",\"00XX000\",\"00XX000\",\"00XX000\",\"00XX000\",\"00XX000\",\"00XX000\",\"00XX000\",\"00XX000\",\"00XX000\",\"00XX000\",\"00XX000\",\"00XX000\",\"00XX000\",\"00XX000\",\"00XX000\",\"00XX000\",\"00XX000\",\"00XX000\",\"00XX000\",\"00XX000\",\"00XX000\",\"00XX000\",\"00XX000\",\"00XX000\",\"00XX000\",\"00XX000\",\"00XX000\",\"00XX000\",\"00XX000\",\"00XX000\",\"00XX000\",\"00XX000\",\"00XX000\",\"00XX000\",\"00XX000\",\"00XX000\",\"00XX000\",\"00XX000\",\"00XX000\",\"00XX000\",\"00XX000\",\"00XX000\",\"00XX000\",\"00XX000\",\"00XX000\",\"00XX000\",\"00XX000\",\"00XX000\",\"00XX000\",\"00XX000\",\"00XX000\",\"00XX000\",\"00XX000\",\"00XX000\",\"00XX000\",\"00XX000\",\"00XX000\",\"00XX000\",\"00XX000\",\"00XX000\",\"00XX000\",\"00XX000\",\"00XX000\",\"00XX000\",\"00XX000\",\"00XX000\",\"00XX000\",\"00XX000\",\"00XX000\",\"00XX000\",\"00XX000\",\"00XX000\",\"00XX000\",\"00XX000\",\"00XX000\",\"00XX000\",\"00XX000\",\"00XX000\",\"00XX000\",\"00XX000\",\"00XX000\",\"00XX000\",\"00XX000\",\"00XX000\",\"00XX000\",\"00XX000\",\"00XX000\",\"00XX000\",\"00XX000\",\"00XX000\",\"00XX000\",\"00XX000\",\"00XX000\",\"00XX000\",\"00XX000\",\"00XX000\",\"00XX000\",\"00XX000\",\"00XX000\",\"00XX000\",\"00XX000\",\"00XX000\",\"00XX000\",\"00XX000\",\"00XX000\",\"00XX000\",\"00XX000\",\"00XX000\",\"00XX000\",\"00XX000\",\"00XX000\",\"00XX000\",\"00XX000\",\"00XX000\",\"00XX000\",\"00XX000\",\"00XX000\",\"00XX000\",\"00XX000\",\"00XX000\",\"00XX000\",\"00XX000\",\"00XX000\",\"00XX000\",\"00XX000\",\"00XX000\",\"00XX000\",\"00XX000\",\"00XX000\",\"00XX000\",\"00XX000\",\"00XX000\",\"00XX000\",\"00XX000\",\"00XX000\",\"00XX000\",\"00XX000\",\"00XX000\",\"00XX000\",\"00XX000\",\"00XX000\",\"00XX000\",\"00XX000\",\"00XX000\",\"00XX000\",\"00XX000\",\"00XX000\",\"00XX000\",\"00XX000\",\"00XX000\",\"00XX000\",\"00XX000\",\"00XX000\",\"00XX000\",\"00XX000\",\"00XX000\",\"00XX000\",\"00XX000\",\"00XX000\",\"00XX000\",\"00XX000\",\"00XX000\",\"00XX000\",\"00XX000\",\"00XX000\",\"00XX000\",\"00XX000\",\"00XX000\",\"00XX000\",\"00XX000\",\"00XX000\",\"00XX000\",\"00XX000\",\"00XX000\",\"00XX000\",\"00XX000\",\"00XX000\",\"00XX000\",\"00XX000\",\"00XX000\",\"00XX000\",\"00XX000\",\"00XX000\",\"00XX000\",\"00XX000\",\"00XX000\",\"00XX000\",\"00XX000\",\"00XX000\",\"00XX000\",\"00XX000\",\"00XX000\",\"00XX000\",\"00XX000\",\"00XX000\",\"00XX000\",\"00XX000\",\"00XX000\",\"00XX000\",\"00XX000\",\"00XX000\",\"00XX000\",\"00XX000\",\"00XX000\",\"00XX000\",\"00XX000\",\"00XX000\",\"00XX000\",\"00XX000\",\"00XX000\",\"00XX000\",\"00XX000\",\"00XX000\",\"00XX000\",\"00XX000\",\"00XX000\",\"00XX000\",\"00XX000\",\"00XX000\",\"00XX000\",\"00XX000\",\"00XX000\",\"00XX000\",\"00XX000\",\"00XX000\",\"00XX000\",\"00XX000\",\"00XX000\",\"00XX000\",\"00XX000\",\"00XX000\",\"00XX000\",\"00XX000\",\"00XX000\",\"00XX000\",\"00XX000\",\"00XX000\",\"00XX000\",\"00XX000\",\"00XX000\",\"00XX000\",\"00XX000\",\"00XX000\",\"00XX000\",\"00XX000\",\"00XX000\",\"00XX000\",\"00XX000\",\"00XX000\",\"00XX000\",\"00XX000\",\"00XX000\",\"00XX000\",\"00XX000\",\"00XX000\",\"00XX000\",\"00XX000\",\"00XX000\",\"00XX000\",\"00XX000\",\"00XX000\",\"00XX000\",\"00XX000\",\"00XX000\",\"00XX000\",\"00XX000\",\"00XX000\",\"00XX000\",\"00XX000\",\"00XX000\",\"00XX000\",\"00XX000\",\"00XX000\",\"00XX000\",\"00XX000\",\"00XX000\",\"00XX000\",\"00XX000\",\"00XX000\",\"00XX000\",\"00XX000\",\"00XX000\",\"00XX000\",\"00XX000\",\"00XX000\",\"00XX000\",\"00XX000\",\"00XX000\",\"00XX000\",\"00XX000\",\"00XX000\",\"00XX000\",\"00XX000\",\"00XX000\",\"00XX000\",\"00XX000\",\"00XX000\",\"00XX000\",\"00XX000\",\"00XX000\",\"00XX000\",\"00XX000\",\"00XX000\",\"00XX000\",\"00XX000\",\"00XX000\",\"00XX000\",\"00XX000\",\"00XX000\",\"00XX000\",\"00XX000\",\"00XX000\"],\"PARAM\":[2,2,2,2,2,2,2,2,2,2,2,2,2,2,2,2,2,2,2,2,2,2,2,2,2,2,2,2,2,2,2,2,2,2,2,2,2,2,2,2,2,2,2,2,2,2,2,2,2,2,2,2,2,2,2,2,2,2,2,2,2,2,2,2,2,2,2,2,2,2,2,2,2,2,2,2,2,2,2,2,2,2,2,2,2,2,2,2,2,2,2,2,2,2,2,2,2,2,2,2,2,2,2,2,2,2,2,2,2,2,2,2,2,2,2,2,2,2,2,2,2,2,2,2,2,2,2,2,2,2,2,2,2,2,2,2,2,2,2,2,2,2,2,2,2,2,2,2,2,2,2,2,2,2,2,2,2,2,2,2,2,2,2,2,2,2,2,2,2,2,2,2,2,2,2,2,2,2,2,2,2,2,2,2,2,2,2,2,2,2,2,2,2,2,2,2,2,2,2,2,2,2,2,2,2,2,2,2,2,2,2,2,2,2,2,2,2,2,2,2,2,2,2,2,2,2,2,2,2,2,2,2,2,2,2,2,2,2,2,2,2,2,2,2,2,2,2,2,2,2,2,2,2,2,2,2,2,2,2,2,2,2,2,2,2,2,2,2,2,2,2,2,2,2,2,2,2,2,2,2,2,2,2,2,2,2,2,2,2,2,2,2,2,2,2,2,2,2,2,2,2,2,2,2,2,2,2,2,2,2,2,2,2,2,2,2,2,2,2,2,2,2,2,2,2,2,2,2,2,2,2,2,2,2,2,2,2,2,2,2,2,2,2,2,2,2,2,2,2,2,2,2,2,2,2,2,2,2,2,2,2,2,2,2,2,2,2,2,2,2,2,2,2,2,2,2,2,2,2,2,2,2,2,2,2,2,2,2,2,2,2,2,2,2,2,2,2,2,2,2,2,2,2,2,2,2,2,2,2,2,2,2,2,2,2,2,2,2,2,2,2,2,2,2,2,2,2,2,2,2,2,2,2,2,2,2,2,2,2,2,2,2,2,2,2,2,2,2,2,2,2,2,2,2,2,2,2,2,2,2,2,2,2,2,2,2,2,2,2,2,2,2,2,2,2,2,2,2,2,2,2,2,2,2,2,2,2,2,2,2,2,2,2,2,2,2,2,2,2,2,2,2,2,2,2,2,2,2,2,2,2,2,2,2,2,2,2,2,2,2,2,2,2,2,2,2,2,2,2,2,2,2,2,2,2,2,2,2,2,2,2,2,2,2,2,2,2,2,2,2,2,2,2,2,2,2,2,2,2,2,2,2,2,2,2,2,2,2,2,2,2,2,2,2,2,2,2,2,2,2,2,2,2,2,2,2,2,2,2,2,2,2,2,2,2,2,2,2,2,2,2,2,2,2,2,2,2,2,2,2,2,2,2,2,2,2,2,2,2,2,2,2,2,2,2,2,2,2,2,2,2,2,2,2,2,2,2,2,2,2,2,2,2,2,2,2,2,2,2,2,2,2,2,2,2,2,2,2,2,2,2,2,2,2,2,2,2,2,2,2,2,2,2,2,2,2,2],\"RC Q (cms)\":{\"__ndarray__\":\"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\",\"dtype\":\"float64\",\"order\":\"little\",\"shape\":[677]},\"Value\":{\"__ndarray__\":\"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\",\"dtype\":\"float64\",\"order\":\"little\",\"shape\":[677]},\"day\":[25,26,27,28,29,30,31,1,2,3,4,5,6,7,8,9,10,11,12,13,14,15,16,17,18,19,20,21,22,23,24,25,26,27,28,29,30,1,2,3,4,5,6,7,8,9,10,11,12,13,14,15,16,17,18,19,20,21,22,23,24,25,26,27,28,29,30,31,1,2,3,4,5,6,7,8,9,10,11,12,13,14,15,16,17,18,19,20,21,22,23,24,25,26,27,28,29,30,1,2,3,4,5,6,7,8,9,10,11,12,13,14,15,16,17,18,19,20,21,22,23,24,25,26,27,28,29,30,31,1,2,3,4,5,6,7,8,9,10,11,12,13,14,15,16,17,18,19,20,21,22,23,24,25,26,27,28,29,30,31,1,2,3,4,5,6,7,8,9,10,11,12,13,14,15,16,17,18,19,20,21,22,23,24,25,26,27,28,1,2,3,4,5,6,7,8,9,10,11,12,13,14,15,16,17,18,19,20,21,22,23,24,25,26,27,28,29,30,31,1,2,3,4,5,6,7,8,9,10,11,12,13,14,15,16,17,18,19,20,21,22,23,24,25,26,27,28,29,30,1,2,3,4,5,6,7,8,9,10,11,12,13,14,15,16,17,18,19,20,21,22,23,24,25,26,27,28,29,30,31,1,2,3,4,5,6,7,8,9,10,11,12,13,14,15,16,17,18,19,20,21,22,23,24,25,26,27,28,29,30,1,2,3,4,5,6,7,8,9,10,11,12,13,14,15,16,17,18,19,20,21,22,23,24,25,26,27,28,29,30,31,1,2,3,4,5,6,7,8,9,10,11,12,13,14,15,16,17,18,19,20,21,22,23,24,25,26,27,28,29,30,31,1,2,3,4,5,6,7,8,9,10,11,12,13,14,15,16,17,18,19,20,21,22,23,24,25,26,27,28,29,30,1,2,3,4,5,6,7,8,9,10,11,12,13,14,15,16,17,18,19,20,21,22,23,24,25,26,27,28,29,30,31,1,2,3,4,5,6,7,8,9,10,11,12,13,14,15,16,17,18,19,20,21,22,23,24,25,26,27,28,29,30,1,2,3,4,5,6,7,8,9,10,11,12,13,14,15,16,17,18,19,20,21,22,23,24,25,26,27,28,29,30,31,1,2,3,4,5,6,7,8,9,10,11,12,13,14,15,16,17,18,19,20,21,22,23,24,25,26,27,28,29,30,31,1,2,3,4,5,6,7,8,9,10,11,12,13,14,15,16,17,18,19,20,21,22,23,24,25,26,27,28,29,1,2,3,4,5,6,7,8,9,10,11,12,13,14,15,16,17,18,19,20,21,22,23,24,25,26,27,28,29,30,31,1,2,3,4,5,6,7,8,9,10,11,12,13,14,15,16,17,18,19,20,21,22,23,24,25,26,27,28,29,30,1,2,3,4,5,6,7,8,9,10,11,12,13,14,15,16,17,18,19,20,21,22,23,24,25,26,27,28,29,30,31,1,2,3,4,5,6,7,8,9,10,11,12,13,14,15,16,17,18,19,20,21,22,23,24,25,26,27,28,29,30,1],\"index\":[0,1,2,3,4,5,6,7,8,9,10,11,12,13,14,15,16,17,18,19,20,21,22,23,24,25,26,27,28,29,30,31,32,33,34,35,36,37,38,39,40,41,42,43,44,45,46,47,48,49,50,51,52,53,54,55,56,57,58,59,60,61,62,63,64,65,66,67,68,69,70,71,72,73,74,75,76,77,78,79,80,81,82,83,84,85,86,87,88,89,90,91,92,93,94,95,96,97,98,99,100,101,102,103,104,105,106,107,108,109,110,111,112,113,114,115,116,117,118,119,120,121,122,123,124,125,126,127,128,129,130,131,132,133,134,135,136,137,138,139,140,141,142,143,144,145,146,147,148,149,150,151,152,153,154,155,156,157,158,159,160,161,162,163,164,165,166,167,168,169,170,171,172,173,174,175,176,177,178,179,180,181,182,183,184,185,186,187,188,189,190,191,192,193,194,195,196,197,198,199,200,201,202,203,204,205,206,207,208,209,210,211,212,213,214,215,216,217,218,219,220,221,222,223,224,225,226,227,228,229,230,231,232,233,234,235,236,237,238,239,240,241,242,243,244,245,246,247,248,249,250,251,252,253,254,255,256,257,258,259,260,261,262,263,264,265,266,267,268,269,270,271,272,273,274,275,276,277,278,279,280,281,282,283,284,285,286,287,288,289,290,291,292,293,294,295,296,297,298,299,300,301,302,303,304,305,306,307,308,309,310,311,312,313,314,315,316,317,318,319,320,321,322,323,324,325,326,327,328,329,330,331,332,333,334,335,336,337,338,339,340,341,342,343,344,345,346,347,348,349,350,351,352,353,354,355,356,357,358,359,360,361,362,363,364,365,366,367,368,369,370,371,372,373,374,375,376,377,378,379,380,381,382,383,384,385,386,387,388,389,390,391,392,393,394,395,396,397,398,399,400,401,402,403,404,405,406,407,408,409,410,411,412,413,414,415,416,417,418,419,420,421,422,423,424,425,426,427,428,429,430,431,432,433,434,435,436,437,438,439,440,441,442,443,444,445,446,447,448,449,450,451,452,453,454,455,456,457,458,459,460,461,462,463,464,465,466,467,468,469,470,471,472,473,474,475,476,477,478,479,480,481,482,483,484,485,486,487,488,489,490,491,492,493,494,495,496,497,498,499,500,501,502,503,504,505,506,507,508,509,510,511,512,513,514,515,516,517,518,519,520,521,522,523,524,525,526,527,528,529,530,531,532,533,534,535,536,537,538,539,540,541,542,543,544,545,546,547,548,549,550,551,552,553,554,555,556,557,558,559,560,561,562,563,564,565,566,567,568,569,570,571,572,573,574,575,576,577,578,579,580,581,582,583,584,585,586,587,588,589,590,591,592,593,594,595,596,597,598,599,600,601,602,603,604,605,606,607,608,609,610,611,612,613,614,615,616,617,618,619,620,621,622,623,624,625,626,627,628,629,630,631,632,633,634,635,636,637,638,639,640,641,642,643,644,645,646,647,648,649,650,651,652,653,654,655,656,657,658,659,660,661,662,663,664,665,666,667,668,669,670,671,672,673,674,675,676],\"month\":[8,8,8,8,8,8,8,9,9,9,9,9,9,9,9,9,9,9,9,9,9,9,9,9,9,9,9,9,9,9,9,9,9,9,9,9,9,10,10,10,10,10,10,10,10,10,10,10,10,10,10,10,10,10,10,10,10,10,10,10,10,10,10,10,10,10,10,10,11,11,11,11,11,11,11,11,11,11,11,11,11,11,11,11,11,11,11,11,11,11,11,11,11,11,11,11,11,11,12,12,12,12,12,12,12,12,12,12,12,12,12,12,12,12,12,12,12,12,12,12,12,12,12,12,12,12,12,12,12,1,1,1,1,1,1,1,1,1,1,1,1,1,1,1,1,1,1,1,1,1,1,1,1,1,1,1,1,1,1,1,2,2,2,2,2,2,2,2,2,2,2,2,2,2,2,2,2,2,2,2,2,2,2,2,2,2,2,2,3,3,3,3,3,3,3,3,3,3,3,3,3,3,3,3,3,3,3,3,3,3,3,3,3,3,3,3,3,3,3,4,4,4,4,4,4,4,4,4,4,4,4,4,4,4,4,4,4,4,4,4,4,4,4,4,4,4,4,4,4,5,5,5,5,5,5,5,5,5,5,5,5,5,5,5,5,5,5,5,5,5,5,5,5,5,5,5,5,5,5,5,6,6,6,6,6,6,6,6,6,6,6,6,6,6,6,6,6,6,6,6,6,6,6,6,6,6,6,6,6,6,7,7,7,7,7,7,7,7,7,7,7,7,7,7,7,7,7,7,7,7,7,7,7,7,7,7,7,7,7,7,7,8,8,8,8,8,8,8,8,8,8,8,8,8,8,8,8,8,8,8,8,8,8,8,8,8,8,8,8,8,8,8,9,9,9,9,9,9,9,9,9,9,9,9,9,9,9,9,9,9,9,9,9,9,9,9,9,9,9,9,9,9,10,10,10,10,10,10,10,10,10,10,10,10,10,10,10,10,10,10,10,10,10,10,10,10,10,10,10,10,10,10,10,11,11,11,11,11,11,11,11,11,11,11,11,11,11,11,11,11,11,11,11,11,11,11,11,11,11,11,11,11,11,12,12,12,12,12,12,12,12,12,12,12,12,12,12,12,12,12,12,12,12,12,12,12,12,12,12,12,12,12,12,12,1,1,1,1,1,1,1,1,1,1,1,1,1,1,1,1,1,1,1,1,1,1,1,1,1,1,1,1,1,1,1,2,2,2,2,2,2,2,2,2,2,2,2,2,2,2,2,2,2,2,2,2,2,2,2,2,2,2,2,2,3,3,3,3,3,3,3,3,3,3,3,3,3,3,3,3,3,3,3,3,3,3,3,3,3,3,3,3,3,3,3,4,4,4,4,4,4,4,4,4,4,4,4,4,4,4,4,4,4,4,4,4,4,4,4,4,4,4,4,4,4,5,5,5,5,5,5,5,5,5,5,5,5,5,5,5,5,5,5,5,5,5,5,5,5,5,5,5,5,5,5,5,6,6,6,6,6,6,6,6,6,6,6,6,6,6,6,6,6,6,6,6,6,6,6,6,6,6,6,6,6,6,7],\"year\":[2010,2010,2010,2010,2010,2010,2010,2010,2010,2010,2010,2010,2010,2010,2010,2010,2010,2010,2010,2010,2010,2010,2010,2010,2010,2010,2010,2010,2010,2010,2010,2010,2010,2010,2010,2010,2010,2010,2010,2010,2010,2010,2010,2010,2010,2010,2010,2010,2010,2010,2010,2010,2010,2010,2010,2010,2010,2010,2010,2010,2010,2010,2010,2010,2010,2010,2010,2010,2010,2010,2010,2010,2010,2010,2010,2010,2010,2010,2010,2010,2010,2010,2010,2010,2010,2010,2010,2010,2010,2010,2010,2010,2010,2010,2010,2010,2010,2010,2010,2010,2010,2010,2010,2010,2010,2010,2010,2010,2010,2010,2010,2010,2010,2010,2010,2010,2010,2010,2010,2010,2010,2010,2010,2010,2010,2010,2010,2010,2010,2011,2011,2011,2011,2011,2011,2011,2011,2011,2011,2011,2011,2011,2011,2011,2011,2011,2011,2011,2011,2011,2011,2011,2011,2011,2011,2011,2011,2011,2011,2011,2011,2011,2011,2011,2011,2011,2011,2011,2011,2011,2011,2011,2011,2011,2011,2011,2011,2011,2011,2011,2011,2011,2011,2011,2011,2011,2011,2011,2011,2011,2011,2011,2011,2011,2011,2011,2011,2011,2011,2011,2011,2011,2011,2011,2011,2011,2011,2011,2011,2011,2011,2011,2011,2011,2011,2011,2011,2011,2011,2011,2011,2011,2011,2011,2011,2011,2011,2011,2011,2011,2011,2011,2011,2011,2011,2011,2011,2011,2011,2011,2011,2011,2011,2011,2011,2011,2011,2011,2011,2011,2011,2011,2011,2011,2011,2011,2011,2011,2011,2011,2011,2011,2011,2011,2011,2011,2011,2011,2011,2011,2011,2011,2011,2011,2011,2011,2011,2011,2011,2011,2011,2011,2011,2011,2011,2011,2011,2011,2011,2011,2011,2011,2011,2011,2011,2011,2011,2011,2011,2011,2011,2011,2011,2011,2011,2011,2011,2011,2011,2011,2011,2011,2011,2011,2011,2011,2011,2011,2011,2011,2011,2011,2011,2011,2011,2011,2011,2011,2011,2011,2011,2011,2011,2011,2011,2011,2011,2011,2011,2011,2011,2011,2011,2011,2011,2011,2011,2011,2011,2011,2011,2011,2011,2011,2011,2011,2011,2011,2011,2011,2011,2011,2011,2011,2011,2011,2011,2011,2011,2011,2011,2011,2011,2011,2011,2011,2011,2011,2011,2011,2011,2011,2011,2011,2011,2011,2011,2011,2011,2011,2011,2011,2011,2011,2011,2011,2011,2011,2011,2011,2011,2011,2011,2011,2011,2011,2011,2011,2011,2011,2011,2011,2011,2011,2011,2011,2011,2011,2011,2011,2011,2011,2011,2011,2011,2011,2011,2011,2011,2011,2011,2011,2011,2011,2011,2011,2011,2011,2011,2011,2011,2011,2011,2011,2011,2011,2011,2011,2011,2011,2011,2011,2011,2011,2011,2011,2011,2011,2011,2011,2011,2011,2011,2011,2011,2011,2011,2011,2011,2011,2011,2011,2011,2011,2011,2011,2011,2011,2011,2011,2011,2011,2011,2011,2011,2011,2011,2011,2011,2011,2011,2011,2011,2011,2012,2012,2012,2012,2012,2012,2012,2012,2012,2012,2012,2012,2012,2012,2012,2012,2012,2012,2012,2012,2012,2012,2012,2012,2012,2012,2012,2012,2012,2012,2012,2012,2012,2012,2012,2012,2012,2012,2012,2012,2012,2012,2012,2012,2012,2012,2012,2012,2012,2012,2012,2012,2012,2012,2012,2012,2012,2012,2012,2012,2012,2012,2012,2012,2012,2012,2012,2012,2012,2012,2012,2012,2012,2012,2012,2012,2012,2012,2012,2012,2012,2012,2012,2012,2012,2012,2012,2012,2012,2012,2012,2012,2012,2012,2012,2012,2012,2012,2012,2012,2012,2012,2012,2012,2012,2012,2012,2012,2012,2012,2012,2012,2012,2012,2012,2012,2012,2012,2012,2012,2012,2012,2012,2012,2012,2012,2012,2012,2012,2012,2012,2012,2012,2012,2012,2012,2012,2012,2012,2012,2012,2012,2012,2012,2012,2012,2012,2012,2012,2012,2012,2012,2012,2012,2012,2012,2012,2012,2012,2012,2012,2012,2012,2012,2012,2012,2012,2012,2012,2012,2012,2012,2012,2012,2012,2012,2012,2012,2012,2012,2012,2012,2012]},\"selected\":{\"id\":\"1127\"},\"selection_policy\":{\"id\":\"1126\"}},\"id\":\"1003\",\"type\":\"ColumnDataSource\"},{\"attributes\":{\"label\":{\"value\":\"Measured Q\"},\"renderers\":[{\"id\":\"1134\"}]},\"id\":\"1158\",\"type\":\"LegendItem\"},{\"attributes\":{\"data_source\":{\"id\":\"1002\"},\"glyph\":{\"id\":\"1132\"},\"hover_glyph\":null,\"muted_glyph\":null,\"nonselection_glyph\":{\"id\":\"1133\"},\"selection_glyph\":null,\"view\":{\"id\":\"1135\"}},\"id\":\"1134\",\"type\":\"GlyphRenderer\"},{\"attributes\":{},\"id\":\"1110\",\"type\":\"DatetimeTickFormatter\"},{\"attributes\":{},\"id\":\"1076\",\"type\":\"DataRange1d\"},{\"attributes\":{\"data_source\":{\"id\":\"1003\"},\"glyph\":{\"id\":\"1105\"},\"hover_glyph\":null,\"muted_glyph\":null,\"nonselection_glyph\":{\"id\":\"1106\"},\"selection_glyph\":null,\"view\":{\"id\":\"1108\"}},\"id\":\"1107\",\"type\":\"GlyphRenderer\"},{\"attributes\":{\"text\":\"Daily Flow Hydrograph\"},\"id\":\"1072\",\"type\":\"Title\"},{\"attributes\":{\"axis_label\":\"Date\",\"formatter\":{\"id\":\"1110\"},\"ticker\":{\"id\":\"1083\"}},\"id\":\"1082\",\"type\":\"DatetimeAxis\"},{\"attributes\":{\"num_minor_ticks\":5,\"tickers\":[{\"id\":\"1114\"},{\"id\":\"1115\"},{\"id\":\"1116\"},{\"id\":\"1117\"},{\"id\":\"1118\"},{\"id\":\"1119\"},{\"id\":\"1120\"},{\"id\":\"1121\"},{\"id\":\"1122\"},{\"id\":\"1123\"},{\"id\":\"1124\"},{\"id\":\"1125\"}]},\"id\":\"1083\",\"type\":\"DatetimeTicker\"},{\"attributes\":{\"mantissas\":[1,2,5],\"max_interval\":500.0,\"num_minor_ticks\":0},\"id\":\"1114\",\"type\":\"AdaptiveTicker\"},{\"attributes\":{\"below\":[{\"id\":\"1015\"}],\"center\":[{\"id\":\"1018\"},{\"id\":\"1022\"},{\"id\":\"1052\"}],\"left\":[{\"id\":\"1019\"}],\"plot_height\":400,\"plot_width\":550,\"renderers\":[{\"id\":\"1041\"},{\"id\":\"1057\"}],\"title\":{\"id\":\"1005\"},\"toolbar\":{\"id\":\"1031\"},\"toolbar_location\":null,\"x_range\":{\"id\":\"1007\"},\"x_scale\":{\"id\":\"1011\"},\"y_range\":{\"id\":\"1009\"},\"y_scale\":{\"id\":\"1013\"}},\"id\":\"1004\",\"subtype\":\"Figure\",\"type\":\"Plot\"},{\"attributes\":{},\"id\":\"1080\",\"type\":\"LinearScale\"},{\"attributes\":{\"base\":60,\"mantissas\":[1,2,5,10,15,20,30],\"max_interval\":1800000.0,\"min_interval\":1000.0,\"num_minor_ticks\":0},\"id\":\"1115\",\"type\":\"AdaptiveTicker\"},{\"attributes\":{},\"id\":\"1078\",\"type\":\"LinearScale\"},{\"attributes\":{\"days\":[1,2,3,4,5,6,7,8,9,10,11,12,13,14,15,16,17,18,19,20,21,22,23,24,25,26,27,28,29,30,31]},\"id\":\"1117\",\"type\":\"DaysTicker\"},{\"attributes\":{\"axis\":{\"id\":\"1082\"},\"ticker\":null},\"id\":\"1085\",\"type\":\"Grid\"},{\"attributes\":{\"base\":24,\"mantissas\":[1,2,4,6,8,12],\"max_interval\":43200000.0,\"min_interval\":3600000.0,\"num_minor_ticks\":0},\"id\":\"1116\",\"type\":\"AdaptiveTicker\"},{\"attributes\":{\"months\":[0,1,2,3,4,5,6,7,8,9,10,11]},\"id\":\"1121\",\"type\":\"MonthsTicker\"},{\"attributes\":{\"toolbar\":{\"id\":\"1195\"},\"toolbar_location\":\"above\"},\"id\":\"1196\",\"type\":\"ToolbarBox\"},{\"attributes\":{},\"id\":\"1095\",\"type\":\"HelpTool\"},{\"attributes\":{\"months\":[0,2,4,6,8,10]},\"id\":\"1122\",\"type\":\"MonthsTicker\"},{\"attributes\":{\"toolbars\":[{\"id\":\"1031\"},{\"id\":\"1097\"}],\"tools\":[{\"id\":\"1023\"},{\"id\":\"1024\"},{\"id\":\"1025\"},{\"id\":\"1026\"},{\"id\":\"1027\"},{\"id\":\"1028\"},{\"id\":\"1090\"},{\"id\":\"1091\"},{\"id\":\"1092\"},{\"id\":\"1093\"},{\"id\":\"1094\"},{\"id\":\"1095\"}]},\"id\":\"1195\",\"type\":\"ProxyToolbar\"},{\"attributes\":{\"axis_label\":\"Flow (m\\u00b3/s)\",\"formatter\":{\"id\":\"1112\"},\"ticker\":{\"id\":\"1087\"}},\"id\":\"1086\",\"type\":\"LinearAxis\"},{\"attributes\":{\"days\":[1,4,7,10,13,16,19,22,25,28]},\"id\":\"1118\",\"type\":\"DaysTicker\"},{\"attributes\":{\"axis\":{\"id\":\"1086\"},\"dimension\":1,\"ticker\":null},\"id\":\"1089\",\"type\":\"Grid\"},{\"attributes\":{\"days\":[1,15]},\"id\":\"1120\",\"type\":\"DaysTicker\"},{\"attributes\":{},\"id\":\"1087\",\"type\":\"BasicTicker\"},{\"attributes\":{\"months\":[0,6]},\"id\":\"1124\",\"type\":\"MonthsTicker\"},{\"attributes\":{\"days\":[1,8,15,22]},\"id\":\"1119\",\"type\":\"DaysTicker\"},{\"attributes\":{\"active_drag\":\"auto\",\"active_inspect\":\"auto\",\"active_multi\":null,\"active_scroll\":\"auto\",\"active_tap\":\"auto\",\"tools\":[{\"id\":\"1090\"},{\"id\":\"1091\"},{\"id\":\"1092\"},{\"id\":\"1093\"},{\"id\":\"1094\"},{\"id\":\"1095\"}]},\"id\":\"1097\",\"type\":\"Toolbar\"},{\"attributes\":{},\"id\":\"1125\",\"type\":\"YearsTicker\"},{\"attributes\":{},\"id\":\"1091\",\"type\":\"WheelZoomTool\"},{\"attributes\":{},\"id\":\"1090\",\"type\":\"PanTool\"},{\"attributes\":{\"months\":[0,4,8]},\"id\":\"1123\",\"type\":\"MonthsTicker\"},{\"attributes\":{\"overlay\":{\"id\":\"1096\"}},\"id\":\"1092\",\"type\":\"BoxZoomTool\"},{\"attributes\":{},\"id\":\"1093\",\"type\":\"SaveTool\"},{\"attributes\":{},\"id\":\"1094\",\"type\":\"ResetTool\"},{\"attributes\":{},\"id\":\"1112\",\"type\":\"BasicTickFormatter\"},{\"attributes\":{\"data\":{\"Date\":{\"__ndarray__\":\"AABAzFrRckIAAMDzJddyQgAAgN2E+3JCAAAAt+8nc0IAAECgMzNzQgAAwBaVRHNCAADA/HRRc0IAAAAh3FhzQgAAgIPKWnNC\",\"dtype\":\"float64\",\"order\":\"little\",\"shape\":[9]},\"Flow (m^3/s)\":{\"__ndarray__\":\"XI/C9ShcEUAtsp3vp8bLP8P1KFyPwgtAH4XrUbgeEUAK16NwPQoSQIGVQ4ts5+8/16NwPQrXA0BI4XoUrkf1P6RwPQrXo/g/\",\"dtype\":\"float64\",\"order\":\"little\",\"shape\":[9]},\"index\":[0,1,2,3,4,5,6,7,8],\"water level (m above 0 flow ref)\":{\"__ndarray__\":\"FK5H4XoU8j/fT42XbhLDP1K4HoXrUfA/tvP91Hjp7j8fhetRuB7xPyYxCKwcWtw/I9v5fmq85D8rhxbZzvfjP1CNl24Sg+A/\",\"dtype\":\"float64\",\"order\":\"little\",\"shape\":[9]}},\"selected\":{\"id\":\"1049\"},\"selection_policy\":{\"id\":\"1048\"}},\"id\":\"1002\",\"type\":\"ColumnDataSource\"},{\"attributes\":{},\"id\":\"1126\",\"type\":\"UnionRenderers\"},{\"attributes\":{},\"id\":\"1127\",\"type\":\"Selection\"},{\"attributes\":{\"bottom_units\":\"screen\",\"fill_alpha\":0.5,\"fill_color\":\"lightgrey\",\"left_units\":\"screen\",\"level\":\"overlay\",\"line_alpha\":1.0,\"line_color\":\"black\",\"line_dash\":[4,4],\"line_width\":2,\"right_units\":\"screen\",\"top_units\":\"screen\"},\"id\":\"1096\",\"type\":\"BoxAnnotation\"},{\"attributes\":{},\"id\":\"1049\",\"type\":\"Selection\"},{\"attributes\":{\"bottom_units\":\"screen\",\"fill_alpha\":0.5,\"fill_color\":\"lightgrey\",\"left_units\":\"screen\",\"level\":\"overlay\",\"line_alpha\":1.0,\"line_color\":\"black\",\"line_dash\":[4,4],\"line_width\":2,\"right_units\":\"screen\",\"top_units\":\"screen\"},\"id\":\"1029\",\"type\":\"BoxAnnotation\"},{\"attributes\":{\"fill_alpha\":0.5,\"fill_color\":\"lightgrey\",\"level\":\"overlay\",\"line_alpha\":1.0,\"line_color\":\"black\",\"line_dash\":[4,4],\"line_width\":2,\"xs_units\":\"screen\",\"ys_units\":\"screen\"},\"id\":\"1030\",\"type\":\"PolyAnnotation\"},{\"attributes\":{\"data_source\":{\"id\":\"1002\"},\"glyph\":{\"id\":\"1039\"},\"hover_glyph\":null,\"muted_glyph\":null,\"nonselection_glyph\":{\"id\":\"1040\"},\"selection_glyph\":null,\"view\":{\"id\":\"1042\"}},\"id\":\"1041\",\"type\":\"GlyphRenderer\"},{\"attributes\":{\"source\":{\"id\":\"1002\"}},\"id\":\"1042\",\"type\":\"CDSView\"},{\"attributes\":{\"label\":{\"value\":\"Measured Q\"},\"renderers\":[{\"id\":\"1041\"}]},\"id\":\"1053\",\"type\":\"LegendItem\"},{\"attributes\":{\"items\":[{\"id\":\"1053\"},{\"id\":\"1070\"}],\"location\":\"bottom_right\"},\"id\":\"1052\",\"type\":\"Legend\"},{\"attributes\":{\"axis_label\":\"Flow (m\\u00b3/s)\",\"formatter\":{\"id\":\"1044\"},\"ticker\":{\"id\":\"1016\"}},\"id\":\"1015\",\"type\":\"LinearAxis\"},{\"attributes\":{\"text\":\"Rating Curve Plot\"},\"id\":\"1005\",\"type\":\"Title\"},{\"attributes\":{},\"id\":\"1044\",\"type\":\"BasicTickFormatter\"},{\"attributes\":{\"fill_alpha\":{\"value\":0.1},\"fill_color\":{\"value\":\"red\"},\"line_alpha\":{\"value\":0.1},\"line_color\":{\"value\":\"red\"},\"size\":{\"units\":\"screen\",\"value\":5},\"x\":{\"field\":\"Flow (m^3/s)\"},\"y\":{\"field\":\"water level (m above 0 flow ref)\"}},\"id\":\"1040\",\"type\":\"Circle\"},{\"attributes\":{},\"id\":\"1009\",\"type\":\"DataRange1d\"},{\"attributes\":{\"axis_label\":\"Stage (m)\",\"formatter\":{\"id\":\"1046\"},\"ticker\":{\"id\":\"1020\"}},\"id\":\"1019\",\"type\":\"LinearAxis\"},{\"attributes\":{},\"id\":\"1013\",\"type\":\"LinearScale\"},{\"attributes\":{\"axis\":{\"id\":\"1015\"},\"ticker\":null},\"id\":\"1018\",\"type\":\"Grid\"},{\"attributes\":{},\"id\":\"1011\",\"type\":\"LinearScale\"},{\"attributes\":{},\"id\":\"1046\",\"type\":\"BasicTickFormatter\"},{\"attributes\":{},\"id\":\"1007\",\"type\":\"DataRange1d\"},{\"attributes\":{\"axis\":{\"id\":\"1019\"},\"dimension\":1,\"ticker\":null},\"id\":\"1022\",\"type\":\"Grid\"},{\"attributes\":{},\"id\":\"1016\",\"type\":\"BasicTicker\"},{\"attributes\":{},\"id\":\"1020\",\"type\":\"BasicTicker\"},{\"attributes\":{\"overlay\":{\"id\":\"1030\"}},\"id\":\"1027\",\"type\":\"PolySelectTool\"},{\"attributes\":{},\"id\":\"1024\",\"type\":\"WheelZoomTool\"},{\"attributes\":{},\"id\":\"1023\",\"type\":\"PanTool\"},{\"attributes\":{},\"id\":\"1025\",\"type\":\"ResetTool\"},{\"attributes\":{\"callback\":null},\"id\":\"1026\",\"type\":\"HoverTool\"},{\"attributes\":{\"active_drag\":\"auto\",\"active_inspect\":\"auto\",\"active_multi\":null,\"active_scroll\":\"auto\",\"active_tap\":\"auto\",\"tools\":[{\"id\":\"1023\"},{\"id\":\"1024\"},{\"id\":\"1025\"},{\"id\":\"1026\"},{\"id\":\"1027\"},{\"id\":\"1028\"}]},\"id\":\"1031\",\"type\":\"Toolbar\"},{\"attributes\":{\"overlay\":{\"id\":\"1029\"}},\"id\":\"1028\",\"type\":\"BoxSelectTool\"},{\"attributes\":{},\"id\":\"1048\",\"type\":\"UnionRenderers\"}],\"root_ids\":[\"1197\"]},\"title\":\"Bokeh Application\",\"version\":\"2.2.3\"}};\n",
       "  var render_items = [{\"docid\":\"bb285bdd-4523-4592-9ef9-f1791366809e\",\"root_ids\":[\"1197\"],\"roots\":{\"1197\":\"4da6259a-6dff-40e0-8e90-e088754cf5e7\"}}];\n",
       "  root.Bokeh.embed.embed_items_notebook(docs_json, render_items);\n",
       "\n",
       "  }\n",
       "  if (root.Bokeh !== undefined) {\n",
       "    embed_document(root);\n",
       "  } else {\n",
       "    var attempts = 0;\n",
       "    var timer = setInterval(function(root) {\n",
       "      if (root.Bokeh !== undefined) {\n",
       "        clearInterval(timer);\n",
       "        embed_document(root);\n",
       "      } else {\n",
       "        attempts++;\n",
       "        if (attempts > 100) {\n",
       "          clearInterval(timer);\n",
       "          console.log(\"Bokeh: ERROR: Unable to run BokehJS code because BokehJS library is missing\");\n",
       "        }\n",
       "      }\n",
       "    }, 10, root)\n",
       "  }\n",
       "})(window);"
      ],
      "application/vnd.bokehjs_exec.v0+json": ""
     },
     "metadata": {
      "application/vnd.bokehjs_exec.v0+json": {
       "id": "1197"
      }
     },
     "output_type": "display_data"
    }
   ],
   "source": [
    "# output to static HTML file\n",
    "#output_file(\"filename.html\")\n",
    "\n",
    "# customize the tools for interacting with the bokeh plot\n",
    "TOOLS=\"pan,wheel_zoom,reset,hover,poly_select,box_select\"\n",
    "\n",
    "# Bokeh uses a ColumnDataSource data structure to \n",
    "# link plots and make them more interactive\n",
    "# set data sources for plot linking\n",
    "stage_df.reset_index(inplace=True, drop=True)\n",
    "rc_source = ColumnDataSource(data=dict())\n",
    "rc_source.data = rc_source.from_df(rc_df)\n",
    "\n",
    "ts_source = ColumnDataSource(data=dict())\n",
    "ts_source.data = ts_source.from_df(stage_df)\n",
    "\n",
    "#### RATING CURVE PLOT (LET)\n",
    "rc_plot = figure(plot_width=550, plot_height=400,\n",
    "                title='Rating Curve Plot',\n",
    "                tools=TOOLS)\n",
    "\n",
    "# plot the measured discharge points\n",
    "rc_plot.circle(flow_label, stage_label, size=5, color=\"red\", alpha=0.5,\n",
    "              legend_label='Measured Q', source=rc_source)\n",
    "\n",
    "# plot the rating curve based on the OLS best fit\n",
    "rc_plot.line(bf_df['best_fit_q'], bf_df['stage'],\n",
    "             line_color='green', legend_label='OLS Fit')\n",
    "\n",
    "#### DAILY FLOW SERIES PLOT (RIGHT)\n",
    "daily_flow_plot = figure(plot_width=550, plot_height=400, \n",
    "                        x_axis_type='datetime', title='Daily Flow Hydrograph')\n",
    "\n",
    "# # plot the flow series based on the OLS best fit\n",
    "daily_flow_plot.line('Date', 'RC Q (cms)', \n",
    "                    legend_label='OLS-based RC Flow', color='dodgerblue',\n",
    "                    source=ts_source)\n",
    "\n",
    "# plot the daily flow series generated from the manual rating curve\n",
    "daily_flow_plot.circle('Date', flow_label, size=5, color=\"red\", alpha=0.8,\n",
    "              source=rc_source, legend_label='Measured Q')\n",
    "\n",
    "# daily_flow_plot.line('Date', 'RC Q (cms)')\n",
    "# label the axes\n",
    "daily_flow_plot.xaxis.axis_label = 'Date'\n",
    "daily_flow_plot.yaxis.axis_label = 'Flow (m³/s)'\n",
    "daily_flow_plot.legend.location = \"top_left\"\n",
    "rc_plot.xaxis.axis_label = 'Flow (m³/s)'\n",
    "rc_plot.yaxis.axis_label = 'Stage (m)'\n",
    "rc_plot.legend.location = \"bottom_right\"\n",
    "\n",
    "layout = gridplot([[rc_plot, daily_flow_plot]])\n",
    "\n",
    "# show the results\n",
    "show(layout)"
   ]
  },
  {
   "cell_type": "markdown",
   "metadata": {},
   "source": [
    "## Characterizing Water Resources using Regional Information\n",
    "\n",
    "Below are a few points to consider regarding the characterization of the water resource over the **long term**.\n",
    "\n",
    "1.  How long has the hydrometric station been operating?  \n",
    "2.  If we're collecting data to support civil engineering design, to assess financial viability of a project, to inform operations, and to quantify the impact of our use of water resources or our modification of natural flow regimes, have we collected enough data?\n",
    "3.  How much data is enough?\n",
    "4.  If we don't have enough, what can we do to better evaluate the water resource?\n",
    "\n"
   ]
  },
  {
   "cell_type": "markdown",
   "metadata": {},
   "source": [
    "## Linear Regression of Daily Streamflow\n",
    "\n",
    "![Active WSC Stations in Western Canada](img/wsc_map_view1.png)\n",
    "\n",
    "Water Survey of Canada (WSC) has operated and maintained hydrometric stations across Canada for over 100 years.  If we can find a regional proxy WSC station in **close proximity to our location of interest, with similar basin characteristics** to those of our project, we can correlate daily streamflow between the two locations, ultimately to generate an estimated (or synthetic) long-term flow series for our project location.\n",
    "\n",
    "Typically regressions are done by chronological pairing, which effectively says \"if the flow at the regional (proxy) station was $Q_p$ at time $t$, the flow at our project location at time $t$ will be approximately $C\\cdot Q_p + D$ where $C$ and $D$ are constants.  "
   ]
  },
  {
   "cell_type": "markdown",
   "metadata": {},
   "source": [
    "### Chronological Pairing (CP)\n",
    "\n",
    "A lot of work goes into finding an appropriate long-term record comparable to our location of interest, but we will assume we have been given a long-term daily flow series to use.\n",
    "\n",
    "1.  Find just the concurrent days of record (days where we have flow recorded for both creeks/rivers).\n",
    "2.  Create a scatter plot where the coordinates of each data point are (flow1, flow2).  It is customary to put the long-term regional station on the x-axis.\n",
    "3.  Determine the equation describing the line of best fit through the data.\n",
    "4.  Apply the best fit line equation to the long-term surrogate record to yield an estimated long-term series for the project location.\n",
    "\n",
    "To further refine this estimate, we can recognize that the mechanisms driving flow across seasons and months can change quite dramatically, and the relationship between the two catchments can also change month-by-month, and/or season by season.  If there is enough data to create seasonal or monthly regressions, we can develop a best-fit equation for each month or season.  The process of steps 2 through 4 then are the same, except we treat each season or month independently.  \n",
    "\n",
    "The above method is referred to as **chronological pairing (CP)**, as it pairs flow that occurs on the same day.  But what if there are timing differences between stations, or what if the spatial variability of precipitation results in flow events that don't coincide in the short term?  "
   ]
  },
  {
   "cell_type": "markdown",
   "metadata": {},
   "source": [
    "### Empirical Frequency Pairing\n",
    "\n",
    "To eliminate the temporal constraint on timing of events at the daily level, instead of comparing concurrent days, we can compare magnitudes of flows. This method is referred to as Empirical Frequency Pairing (EFP) and is commonly used in British Columbia.  Empirical frequency pairing still uses concurrent records, however it is the ranked flows in each series that are compared, i.e. the data points on an EFP plot are:  \n",
    "\n",
    "$$[(R1_{siteA}, R1_{site_B}), (R2_{siteA}, R2_{siteB}), ..., (Rn_{siteA}, Rn_{siteB})]$$  \n",
    "\n",
    "The steps to derive an estimated long-term flow series for our location of interest are the same (i.e. steps 2-4 above)."
   ]
  },
  {
   "cell_type": "markdown",
   "metadata": {},
   "source": [
    "### Setting up a Regression\n",
    "\n",
    "The first step is to import the regional data series and find all of the dates with values for both locations.\n",
    "\n",
    "Previewing the data shows line 1 has information about two distinct parameters.  Where the `PARAM` column value is 1, the `Value` column corresponds to daily discharge ($\\frac{m^3}{s}$ and where the `PARAM` column value is 2, the `Value` column corresonds to daily water level ($m$).  We need to correctly set the header line to index 1 (the second row), so that the headings are read correctly."
   ]
  },
  {
   "cell_type": "code",
   "execution_count": 14,
   "metadata": {},
   "outputs": [
    {
     "data": {
      "text/html": [
       "<div>\n",
       "<style scoped>\n",
       "    .dataframe tbody tr th:only-of-type {\n",
       "        vertical-align: middle;\n",
       "    }\n",
       "\n",
       "    .dataframe tbody tr th {\n",
       "        vertical-align: top;\n",
       "    }\n",
       "\n",
       "    .dataframe thead th {\n",
       "        text-align: right;\n",
       "    }\n",
       "</style>\n",
       "<table border=\"1\" class=\"dataframe\">\n",
       "  <thead>\n",
       "    <tr style=\"text-align: right;\">\n",
       "      <th></th>\n",
       "      <th>ID</th>\n",
       "      <th>PARAM</th>\n",
       "      <th>year</th>\n",
       "      <th>month</th>\n",
       "      <th>day</th>\n",
       "      <th>flow</th>\n",
       "      <th>Flag</th>\n",
       "    </tr>\n",
       "    <tr>\n",
       "      <th>Date</th>\n",
       "      <th></th>\n",
       "      <th></th>\n",
       "      <th></th>\n",
       "      <th></th>\n",
       "      <th></th>\n",
       "      <th></th>\n",
       "      <th></th>\n",
       "    </tr>\n",
       "  </thead>\n",
       "  <tbody>\n",
       "    <tr>\n",
       "      <th>1983-02-03</th>\n",
       "      <td>08MH147</td>\n",
       "      <td>1</td>\n",
       "      <td>1983</td>\n",
       "      <td>2</td>\n",
       "      <td>3</td>\n",
       "      <td>6.59</td>\n",
       "      <td>A</td>\n",
       "    </tr>\n",
       "    <tr>\n",
       "      <th>1983-02-04</th>\n",
       "      <td>08MH147</td>\n",
       "      <td>1</td>\n",
       "      <td>1983</td>\n",
       "      <td>2</td>\n",
       "      <td>4</td>\n",
       "      <td>6.40</td>\n",
       "      <td>NaN</td>\n",
       "    </tr>\n",
       "    <tr>\n",
       "      <th>1983-02-05</th>\n",
       "      <td>08MH147</td>\n",
       "      <td>1</td>\n",
       "      <td>1983</td>\n",
       "      <td>2</td>\n",
       "      <td>5</td>\n",
       "      <td>5.93</td>\n",
       "      <td>NaN</td>\n",
       "    </tr>\n",
       "    <tr>\n",
       "      <th>1983-02-06</th>\n",
       "      <td>08MH147</td>\n",
       "      <td>1</td>\n",
       "      <td>1983</td>\n",
       "      <td>2</td>\n",
       "      <td>6</td>\n",
       "      <td>6.21</td>\n",
       "      <td>NaN</td>\n",
       "    </tr>\n",
       "    <tr>\n",
       "      <th>1983-02-07</th>\n",
       "      <td>08MH147</td>\n",
       "      <td>1</td>\n",
       "      <td>1983</td>\n",
       "      <td>2</td>\n",
       "      <td>7</td>\n",
       "      <td>7.04</td>\n",
       "      <td>NaN</td>\n",
       "    </tr>\n",
       "  </tbody>\n",
       "</table>\n",
       "</div>"
      ],
      "text/plain": [
       "                 ID  PARAM  year  month  day  flow Flag\n",
       "Date                                                   \n",
       "1983-02-03  08MH147      1  1983      2    3  6.59    A\n",
       "1983-02-04  08MH147      1  1983      2    4  6.40  NaN\n",
       "1983-02-05  08MH147      1  1983      2    5  5.93  NaN\n",
       "1983-02-06  08MH147      1  1983      2    6  6.21  NaN\n",
       "1983-02-07  08MH147      1  1983      2    7  7.04  NaN"
      ]
     },
     "execution_count": 14,
     "metadata": {},
     "output_type": "execute_result"
    }
   ],
   "source": [
    "# set the header row to index 1, tell the function to set the `Date` column as the index.\n",
    "# If you look at the raw csv file, you'll see that there's an information line at the very top,\n",
    "# and the second line (index 1 in programming) is where the column headers are\n",
    "regional_df = pd.read_csv('../../data/Stave Daily Avg Flow.csv', header=0, parse_dates=True, index_col='Date')\n",
    "\n",
    "# select only the discharge data (PARAM == 1)\n",
    "regional_df = regional_df[regional_df['PARAM'] == 1]\n",
    "# \n",
    "# regional_df.columns = ['ID', 'PARAM', 'year', 'month', 'day' 'Regional Flow (m^3/s)', 'SYM']\n",
    "# \n",
    "# preview the data\n",
    "regional_df.head()"
   ]
  },
  {
   "cell_type": "code",
   "execution_count": 15,
   "metadata": {},
   "outputs": [
    {
     "name": "stdout",
     "output_type": "stream",
     "text": [
      "REGIONAL DATA: Start date = 1983-02-03 00:00:00, End date = 2011-12-31 00:00:00\n",
      "SITE DATA: Start date = 0, End date = 676\n"
     ]
    }
   ],
   "source": [
    "# check the date range covered by the regional data\n",
    "print('REGIONAL DATA: Start date = {}, End date = {}'.format(regional_df.index[0], regional_df.index[-1]))\n",
    "\n",
    "# check the date range covered by our data measured at site\n",
    "print('SITE DATA: Start date = {}, End date = {}'.format(stage_df.index[0], stage_df.index[-1]))"
   ]
  },
  {
   "cell_type": "markdown",
   "metadata": {},
   "source": [
    "### Obtain Concurrent Data\n",
    "\n",
    "In the previous step, we can see that the regional dataset encompasses the date range of our site data.  To perform a regression, we want to use concurrent data only.   The `concat`, or concatenate, function [documentation can be found here](https://pandas.pydata.org/pandas-docs/stable/reference/api/pandas.concat.html). "
   ]
  },
  {
   "cell_type": "code",
   "execution_count": 16,
   "metadata": {},
   "outputs": [],
   "source": [
    "# create a new dataframe of concurrent data and plot the data\n",
    "# join='inner' says to line up the indices and get the values that are common between the two dataframes\n",
    "# axis=1 says line up columns instead of rows\n",
    "concurrent_df = pd.concat([stage_df, regional_df], join='inner', axis=1)\n",
    "stage_df.index = pd.to_datetime(stage_df.index)\n",
    "# filter just the columns we want\n",
    "concurrent_df = concurrent_df[['flow', 'RC Q (cms)']]\n",
    "\n",
    "# not rename the columns to something that is more indicative of the location of each data source\n",
    "concurrent_df.columns = ['Regional_Q', 'Project_Q']\n",
    "\n",
    "# concurrent_df = concurrent_df[concurrent_df['Regional_Q'] < 6.0]\n",
    "\n",
    "concurrent_df.head()\n",
    "\n",
    "concurrent_df.dropna(inplace=True)"
   ]
  },
  {
   "cell_type": "code",
   "execution_count": 17,
   "metadata": {},
   "outputs": [
    {
     "ename": "ValueError",
     "evalue": "Inputs must not be empty.",
     "output_type": "error",
     "traceback": [
      "\u001b[0;31m---------------------------------------------------------------------------\u001b[0m",
      "\u001b[0;31mValueError\u001b[0m                                Traceback (most recent call last)",
      "\u001b[0;32m<ipython-input-17-1bbb1379dabc>\u001b[0m in \u001b[0;36m<module>\u001b[0;34m\u001b[0m\n\u001b[1;32m      1\u001b[0m \u001b[0;31m# find the best fit equation\u001b[0m\u001b[0;34m\u001b[0m\u001b[0;34m\u001b[0m\u001b[0;34m\u001b[0m\u001b[0m\n\u001b[0;32m----> 2\u001b[0;31m \u001b[0mslope\u001b[0m\u001b[0;34m,\u001b[0m \u001b[0mintercept\u001b[0m\u001b[0;34m,\u001b[0m \u001b[0mrval\u001b[0m\u001b[0;34m,\u001b[0m \u001b[0mpval\u001b[0m\u001b[0;34m,\u001b[0m \u001b[0mstderr\u001b[0m \u001b[0;34m=\u001b[0m \u001b[0mst\u001b[0m\u001b[0;34m.\u001b[0m\u001b[0mlinregress\u001b[0m\u001b[0;34m(\u001b[0m\u001b[0mconcurrent_df\u001b[0m\u001b[0;34m[\u001b[0m\u001b[0;34m'Regional_Q'\u001b[0m\u001b[0;34m]\u001b[0m\u001b[0;34m,\u001b[0m \u001b[0mconcurrent_df\u001b[0m\u001b[0;34m[\u001b[0m\u001b[0;34m'Project_Q'\u001b[0m\u001b[0;34m]\u001b[0m\u001b[0;34m)\u001b[0m\u001b[0;34m\u001b[0m\u001b[0;34m\u001b[0m\u001b[0m\n\u001b[0m",
      "\u001b[0;32m~/anaconda3/lib/python3.8/site-packages/scipy/stats/_stats_mstats_common.py\u001b[0m in \u001b[0;36mlinregress\u001b[0;34m(x, y)\u001b[0m\n\u001b[1;32m    107\u001b[0m \u001b[0;34m\u001b[0m\u001b[0m\n\u001b[1;32m    108\u001b[0m     \u001b[0;32mif\u001b[0m \u001b[0mx\u001b[0m\u001b[0;34m.\u001b[0m\u001b[0msize\u001b[0m \u001b[0;34m==\u001b[0m \u001b[0;36m0\u001b[0m \u001b[0;32mor\u001b[0m \u001b[0my\u001b[0m\u001b[0;34m.\u001b[0m\u001b[0msize\u001b[0m \u001b[0;34m==\u001b[0m \u001b[0;36m0\u001b[0m\u001b[0;34m:\u001b[0m\u001b[0;34m\u001b[0m\u001b[0;34m\u001b[0m\u001b[0m\n\u001b[0;32m--> 109\u001b[0;31m         \u001b[0;32mraise\u001b[0m \u001b[0mValueError\u001b[0m\u001b[0;34m(\u001b[0m\u001b[0;34m\"Inputs must not be empty.\"\u001b[0m\u001b[0;34m)\u001b[0m\u001b[0;34m\u001b[0m\u001b[0;34m\u001b[0m\u001b[0m\n\u001b[0m\u001b[1;32m    110\u001b[0m \u001b[0;34m\u001b[0m\u001b[0m\n\u001b[1;32m    111\u001b[0m     \u001b[0mn\u001b[0m \u001b[0;34m=\u001b[0m \u001b[0mlen\u001b[0m\u001b[0;34m(\u001b[0m\u001b[0mx\u001b[0m\u001b[0;34m)\u001b[0m\u001b[0;34m\u001b[0m\u001b[0;34m\u001b[0m\u001b[0m\n",
      "\u001b[0;31mValueError\u001b[0m: Inputs must not be empty."
     ]
    }
   ],
   "source": [
    "# find the best fit equation\n",
    "slope, intercept, rval, pval, stderr = st.linregress(concurrent_df['Regional_Q'], concurrent_df['Project_Q'])"
   ]
  },
  {
   "cell_type": "code",
   "execution_count": 24,
   "metadata": {},
   "outputs": [
    {
     "name": "stdout",
     "output_type": "stream",
     "text": [
      "0.14112067534463127\n"
     ]
    }
   ],
   "source": [
    "print(slope)"
   ]
  },
  {
   "cell_type": "markdown",
   "metadata": {},
   "source": [
    "## Regression Plot"
   ]
  },
  {
   "cell_type": "code",
   "execution_count": 25,
   "metadata": {},
   "outputs": [
    {
     "data": {
      "text/html": [
       "\n",
       "\n",
       "\n",
       "\n",
       "\n",
       "\n",
       "<div class=\"bk-root\" id=\"173adb85-be53-4787-8ef3-f02327cdf85e\" data-root-id=\"1421\"></div>\n"
      ]
     },
     "metadata": {},
     "output_type": "display_data"
    },
    {
     "data": {
      "application/javascript": [
       "(function(root) {\n",
       "  function embed_document(root) {\n",
       "    \n",
       "  var docs_json = {\"43f110c1-5a8f-4f3b-878f-63bdf0abb011\":{\"defs\":[],\"roots\":{\"references\":[{\"attributes\":{\"below\":[{\"id\":\"1432\"}],\"center\":[{\"id\":\"1435\"},{\"id\":\"1439\"},{\"id\":\"1478\"}],\"height\":400,\"left\":[{\"id\":\"1436\"}],\"renderers\":[{\"id\":\"1458\"},{\"id\":\"1463\"}],\"title\":{\"id\":\"1422\"},\"toolbar\":{\"id\":\"1448\"},\"width\":700,\"x_range\":{\"id\":\"1424\"},\"x_scale\":{\"id\":\"1428\"},\"y_range\":{\"id\":\"1426\"},\"y_scale\":{\"id\":\"1430\"}},\"id\":\"1421\",\"subtype\":\"Figure\",\"type\":\"Plot\"},{\"attributes\":{\"line_alpha\":0.1,\"line_color\":\"firebrick\",\"line_width\":2,\"x\":{\"field\":\"x\"},\"y\":{\"field\":\"y\"}},\"id\":\"1462\",\"type\":\"Line\"},{\"attributes\":{},\"id\":\"1467\",\"type\":\"BasicTickFormatter\"},{\"attributes\":{},\"id\":\"1441\",\"type\":\"WheelZoomTool\"},{\"attributes\":{},\"id\":\"1466\",\"type\":\"AllLabels\"},{\"attributes\":{},\"id\":\"1472\",\"type\":\"Selection\"},{\"attributes\":{\"line_color\":\"firebrick\",\"line_width\":2,\"x\":{\"field\":\"x\"},\"y\":{\"field\":\"y\"}},\"id\":\"1461\",\"type\":\"Line\"},{\"attributes\":{},\"id\":\"1473\",\"type\":\"UnionRenderers\"},{\"attributes\":{\"bottom_units\":\"screen\",\"fill_alpha\":0.5,\"fill_color\":\"lightgrey\",\"left_units\":\"screen\",\"level\":\"overlay\",\"line_alpha\":1.0,\"line_color\":\"black\",\"line_dash\":[4,4],\"line_width\":2,\"right_units\":\"screen\",\"syncable\":false,\"top_units\":\"screen\"},\"id\":\"1446\",\"type\":\"BoxAnnotation\"},{\"attributes\":{},\"id\":\"1442\",\"type\":\"ResetTool\"},{\"attributes\":{},\"id\":\"1433\",\"type\":\"BasicTicker\"},{\"attributes\":{\"source\":{\"id\":\"1460\"}},\"id\":\"1464\",\"type\":\"CDSView\"},{\"attributes\":{\"active_multi\":null,\"tools\":[{\"id\":\"1440\"},{\"id\":\"1441\"},{\"id\":\"1442\"},{\"id\":\"1443\"},{\"id\":\"1444\"},{\"id\":\"1445\"}]},\"id\":\"1448\",\"type\":\"Toolbar\"},{\"attributes\":{},\"id\":\"1440\",\"type\":\"PanTool\"},{\"attributes\":{\"label\":{\"value\":\"Q = 0.1*Qregional + 0.2\"},\"renderers\":[{\"id\":\"1463\"}]},\"id\":\"1479\",\"type\":\"LegendItem\"},{\"attributes\":{},\"id\":\"1469\",\"type\":\"AllLabels\"},{\"attributes\":{},\"id\":\"1474\",\"type\":\"Selection\"},{\"attributes\":{},\"id\":\"1470\",\"type\":\"BasicTickFormatter\"},{\"attributes\":{\"fill_alpha\":0.5,\"fill_color\":\"lightgrey\",\"level\":\"overlay\",\"line_alpha\":1.0,\"line_color\":\"black\",\"line_dash\":[4,4],\"line_width\":2,\"syncable\":false,\"xs_units\":\"screen\",\"ys_units\":\"screen\"},\"id\":\"1447\",\"type\":\"PolyAnnotation\"},{\"attributes\":{\"data\":{\"x\":{\"__ndarray__\":\"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\",\"dtype\":\"float64\",\"order\":\"little\",\"shape\":[447]},\"y\":{\"__ndarray__\":\"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\",\"dtype\":\"float64\",\"order\":\"little\",\"shape\":[447]}},\"selected\":{\"id\":\"1472\"},\"selection_policy\":{\"id\":\"1473\"}},\"id\":\"1455\",\"type\":\"ColumnDataSource\"},{\"attributes\":{},\"id\":\"1475\",\"type\":\"UnionRenderers\"},{\"attributes\":{\"data_source\":{\"id\":\"1460\"},\"glyph\":{\"id\":\"1461\"},\"hover_glyph\":null,\"muted_glyph\":null,\"nonselection_glyph\":{\"id\":\"1462\"},\"view\":{\"id\":\"1464\"}},\"id\":\"1463\",\"type\":\"GlyphRenderer\"},{\"attributes\":{\"fill_color\":{\"value\":\"dodgerblue\"},\"line_color\":{\"value\":\"dodgerblue\"},\"x\":{\"field\":\"x\"},\"y\":{\"field\":\"y\"}},\"id\":\"1456\",\"type\":\"Scatter\"},{\"attributes\":{\"text\":\"Regression Plot (All Concurrent Data)\"},\"id\":\"1422\",\"type\":\"Title\"},{\"attributes\":{\"items\":[{\"id\":\"1479\"}]},\"id\":\"1478\",\"type\":\"Legend\"},{\"attributes\":{},\"id\":\"1430\",\"type\":\"LinearScale\"},{\"attributes\":{},\"id\":\"1424\",\"type\":\"DataRange1d\"},{\"attributes\":{},\"id\":\"1426\",\"type\":\"DataRange1d\"},{\"attributes\":{\"overlay\":{\"id\":\"1447\"}},\"id\":\"1444\",\"type\":\"PolySelectTool\"},{\"attributes\":{\"axis_label\":\"Project Location Daily Avg. Flow (m^3/s)\",\"formatter\":{\"id\":\"1470\"},\"major_label_policy\":{\"id\":\"1469\"},\"ticker\":{\"id\":\"1437\"}},\"id\":\"1436\",\"type\":\"LinearAxis\"},{\"attributes\":{},\"id\":\"1428\",\"type\":\"LinearScale\"},{\"attributes\":{\"axis_label\":\"Regional Station Daily Avg. Flow (m^3/s)\",\"formatter\":{\"id\":\"1467\"},\"major_label_policy\":{\"id\":\"1466\"},\"ticker\":{\"id\":\"1433\"}},\"id\":\"1432\",\"type\":\"LinearAxis\"},{\"attributes\":{\"source\":{\"id\":\"1455\"}},\"id\":\"1459\",\"type\":\"CDSView\"},{\"attributes\":{\"callback\":null},\"id\":\"1443\",\"type\":\"HoverTool\"},{\"attributes\":{\"fill_alpha\":{\"value\":0.1},\"fill_color\":{\"value\":\"dodgerblue\"},\"line_alpha\":{\"value\":0.1},\"line_color\":{\"value\":\"dodgerblue\"},\"x\":{\"field\":\"x\"},\"y\":{\"field\":\"y\"}},\"id\":\"1457\",\"type\":\"Scatter\"},{\"attributes\":{\"axis\":{\"id\":\"1432\"},\"ticker\":null},\"id\":\"1435\",\"type\":\"Grid\"},{\"attributes\":{\"data_source\":{\"id\":\"1455\"},\"glyph\":{\"id\":\"1456\"},\"hover_glyph\":null,\"muted_glyph\":null,\"nonselection_glyph\":{\"id\":\"1457\"},\"view\":{\"id\":\"1459\"}},\"id\":\"1458\",\"type\":\"GlyphRenderer\"},{\"attributes\":{\"data\":{\"x\":{\"__ndarray__\":\"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\",\"dtype\":\"float64\",\"order\":\"little\",\"shape\":[500]},\"y\":[0.2,0.2523046092184369,0.3046092184368738,0.35691382765531066,0.4092184368737475,0.4615230460921844,0.5138276553106212,0.5661322645290581,0.618436873747495,0.670741482965932,0.7230460921843689,0.7753507014028056,0.8276553106212425,0.8799599198396792,0.9322645290581162,0.9845691382765531,1.03687374749499,1.089178356713427,1.1414829659318637,1.1937875751503007,1.2460921843687376,1.2983967935871743,1.3507014028056112,1.403006012024048,1.455310621242485,1.5076152304609218,1.5599198396793585,1.6122244488977957,1.6645290581162324,1.7168336673346694,1.769138276553106,1.8214428857715432,1.87374749498998,1.9260521042084167,1.9783567134268538,2.0306613226452908,2.0829659318637277,2.135270541082164,2.1875751503006016,2.239879759519038,2.2921843687374754,2.344488977955912,2.396793587174349,2.449098196392786,2.5014028056112227,2.5537074148296597,2.606012024048096,2.658316633266533,2.71062124248497,2.762925851703407,2.815230460921844,2.867535070140281,2.9198396793587174,2.9721442885771547,3.0244488977955917,3.076753507014028,3.129058116232465,3.1813627254509016,3.233667334669339,3.285971943887776,3.3382765531062124,3.3905811623246493,3.4428857715430867,3.495190380761523,3.54749498997996,3.599799599198397,3.6521042084168336,3.704408817635271,3.756713426853708,3.8090180360721444,3.8613226452905813,3.9136272545090183,3.965931863727455,4.018236472945892,4.070541082164328,4.122845691382765,4.175150300601203,4.22745490981964,4.279759519038076,4.332064128256513,4.384368737474951,4.436673346693387,4.488977955911824,4.541282565130261,4.593587174348698,4.6458917835671345,4.698196392785571,4.750501002004008,4.802805611222445,4.855110220440881,4.907414829659319,4.959719438877756,5.012024048096192,5.06432865731463,5.116633266533066,5.168937875751503,5.22124248496994,5.273547094188377,5.325851703406814,5.378156312625251,5.430460921843688,5.482765531062125,5.5350701402805615,5.5873747494989985,5.6396793587174345,5.691983967935872,5.744288577154309,5.796593186372745,5.848897795591183,5.901202404809619,5.953507014028056,6.005811623246494,6.05811623246493,6.110420841683367,6.162725450901803,6.215030060120241,6.267334669338678,6.319639278557114,6.371943887775552,6.424248496993989,6.476553106212425,6.5288577154308625,6.5811623246492985,6.6334669338677354,6.685771543086173,6.738076152304609,6.790380761523046,6.842685370741483,6.89498997995992,6.947294589178357,6.999599198396794,7.051903807615231,7.104208416833667,7.156513026052105,7.208817635270542,7.261122244488978,7.313426853707416,7.365731462925852,7.418036072144289,7.4703406813627256,7.5226452905811625,7.574949899799599,7.627254509018036,7.679559118236473,7.73186372745491,7.784168336673346,7.836472945891784,7.888777555110221,7.941082164328657,7.993386773547095,8.045691382765531,8.097995991983968,8.150300601202405,8.20260521042084,8.254909819639279,8.307214428857714,8.35951903807615,8.41182364729459,8.464128256513025,8.516432865731462,8.5687374749499,8.621042084168336,8.673346693386772,8.72565130260521,8.777955911823646,8.830260521042083,8.88256513026052,8.934869739478957,8.987174348697394,9.039478957915831,9.091783567134268,9.144088176352705,9.196392785571142,9.248697394789579,9.301002004008016,9.353306613226453,9.40561122244489,9.457915831663327,9.510220440881762,9.5625250501002,9.614829659318637,9.667134268537072,9.719438877755511,9.771743486973948,9.824048096192383,9.876352705410822,9.928657314629259,9.980961923847694,10.033266533066131,10.085571142284568,10.137875751503005,10.190180360721444,10.242484969939879,10.294789579158316,10.347094188376753,10.39939879759519,10.451703406813627,10.504008016032065,10.5563126252505,10.608617234468937,10.660921843687374,10.713226452905811,10.765531062124248,10.817835671342683,10.870140280561122,10.922444889779559,10.974749498997996,11.027054108216433,11.079358717434868,11.131663326653305,11.183967935871744,11.23627254509018,11.288577154308618,11.340881763527053,11.39318637274549,11.445490981963927,11.497795591182365,11.550100200400802,11.602404809619237,11.654709418837674,11.707014028056111,11.759318637274548,11.811623246492987,11.863927855711422,11.916232464929859,11.968537074148296,12.020841683366733,12.07314629258517,12.125450901803605,12.177755511022044,12.23006012024048,12.282364729458918,12.334669338677354,12.38697394789579,12.439278557114227,12.491583166332665,12.543887775551102,12.59619238476954,12.648496993987976,12.700801603206411,12.753106212424848,12.805410821643287,12.857715430861724,12.91002004008016,12.962324649298596,13.014629258517033,13.06693386773547,13.119238476953909,13.171543086172345,13.22384769539078,13.276152304609218,13.328456913827655,13.380761523046091,13.43306613226453,13.485370741482965,13.537675350701402,13.58997995991984,13.642284569138276,13.694589178356713,13.746893787575148,13.799198396793587,13.851503006012024,13.90380761523046,13.956112224448898,14.008416833667333,14.06072144288577,14.113026052104209,14.165330661322646,14.217635270541082,14.269939879759518,14.322244488977955,14.374549098196391,14.42685370741483,14.479158316633267,14.531462925851702,14.58376753507014,14.636072144288576,14.688376753507013,14.74068136272545,14.792985971943889,14.845290581162324,14.89759519038076,14.949899799599198,15.002204408817635,15.054509018036072,15.106813627254507,15.159118236472946,15.211422845691382,15.26372745490982,15.316032064128256,15.368336673346692,15.420641282565128,15.472945891783567,15.525250501002004,15.577555110220441,15.629859719438876,15.682164328657313,15.73446893787575,15.786773547094189,15.839078156312626,15.89138276553106,15.943687374749498,15.995991983967935,16.04829659318637,16.10060120240481,16.152905811623246,16.20521042084168,16.25751503006012,16.309819639278558,16.362124248496993,16.41442885771543,16.466733466933867,16.519038076152302,16.57134268537074,16.62364729458918,16.675951903807615,16.72825651302605,16.78056112224449,16.832865731462924,16.885170340681363,16.9374749498998,16.989779559118237,17.04208416833667,17.09438877755511,17.146693386773546,17.198997995991984,17.25130260521042,17.303607214428858,17.355911823647293,17.408216432865732,17.460521042084167,17.512825651302602,17.56513026052104,17.61743486973948,17.669739478957915,17.722044088176354,17.77434869739479,17.826653306613224,17.878957915831663,17.9312625250501,17.983567134268537,18.03587174348697,18.08817635270541,18.140480961923846,18.192785571142284,18.245090180360723,18.297394789579158,18.349699398797593,18.402004008016032,18.454308617234467,18.506613226452906,18.55891783567134,18.61122244488978,18.663527054108215,18.715831663326654,18.76813627254509,18.820440881763524,18.872745490981963,18.9250501002004,18.977354709418837,19.029659318637275,19.08196392785571,19.134268537074146,19.186573146292584,19.238877755511023,19.29118236472946,19.343486973947897,19.395791583166332,19.448096192384767,19.500400801603206,19.552705410821645,19.60501002004008,19.65731462925852,19.709619238476954,19.76192384769539,19.814228456913824,19.866533066132263,19.9188376753507,19.971142284569137,20.023446893787575,20.07575150300601,20.12805611222445,20.180360721442888,20.232665330661323,20.28496993987976,20.337274549098193,20.389579158316632,20.441883767535067,20.494188376753506,20.546492985971945,20.59879759519038,20.65110220440882,20.703406813627254,20.755711422845692,20.80801603206413,20.860320641282563,20.912625250501,20.964929859719437,21.017234468937875,21.06953907815631,21.12184368737475,21.174148296593188,21.226452905811623,21.278757515030062,21.331062124248497,21.383366733466932,21.435671342685367,21.487975951903806,21.540280561122245,21.59258517034068,21.64488977955912,21.697194388777554,21.749498997995993,21.80180360721443,21.854108216432866,21.9064128256513,21.958717434869737,22.011022044088175,22.06332665330661,22.11563126252505,22.167935871743488,22.220240480961923,22.272545090180362,22.324849699398797,22.377154308617236,22.429458917835667,22.481763527054106,22.534068136272545,22.58637274549098,22.63867735470942,22.690981963927854,22.743286573146293,22.79559118236473,22.847895791583166,22.900200400801605,22.95250501002004,23.004809619238475,23.05711422845691,23.10941883767535,23.161723446893788,23.214028056112223,23.266332665330662,23.318637274549097,23.370941883767536,23.423246492985974,23.47555110220441,23.527855711422845,23.58016032064128,23.63246492985972,23.684769539078154,23.737074148296593,23.78937875751503,23.841683366733466,23.893987975951905,23.94629258517034,23.99859719438878,24.05090180360721,24.10320641282565,24.155511022044088,24.207815631262523,24.260120240480962,24.312424849699397,24.364729458917836,24.417034068136275,24.46933867735471,24.52164328657315,24.57394789579158,24.62625250501002,24.678557114228454,24.730861723446893,24.78316633266533,24.835470941883766,24.887775551102205,24.94008016032064,24.99238476953908,25.044689378757518,25.096993987975953,25.149298597194388,25.201603206412823,25.253907815631262,25.306212424849697,25.358517034068136,25.410821643286575,25.46312625250501,25.51543086172345,25.567735470941884,25.620040080160322,25.672344689378754,25.724649298597193,25.77695390781563,25.829258517034067,25.881563126252505,25.93386773547094,25.98617234468938,26.038476953907818,26.090781563126253,26.14308617234469,26.195390781563123,26.247695390781562,26.299999999999997]},\"selected\":{\"id\":\"1474\"},\"selection_policy\":{\"id\":\"1475\"}},\"id\":\"1460\",\"type\":\"ColumnDataSource\"},{\"attributes\":{\"axis\":{\"id\":\"1436\"},\"dimension\":1,\"ticker\":null},\"id\":\"1439\",\"type\":\"Grid\"},{\"attributes\":{\"overlay\":{\"id\":\"1446\"}},\"id\":\"1445\",\"type\":\"BoxSelectTool\"},{\"attributes\":{},\"id\":\"1437\",\"type\":\"BasicTicker\"}],\"root_ids\":[\"1421\"]},\"title\":\"Bokeh Application\",\"version\":\"2.3.1\"}};\n",
       "  var render_items = [{\"docid\":\"43f110c1-5a8f-4f3b-878f-63bdf0abb011\",\"root_ids\":[\"1421\"],\"roots\":{\"1421\":\"173adb85-be53-4787-8ef3-f02327cdf85e\"}}];\n",
       "  root.Bokeh.embed.embed_items_notebook(docs_json, render_items);\n",
       "\n",
       "  }\n",
       "  if (root.Bokeh !== undefined) {\n",
       "    embed_document(root);\n",
       "  } else {\n",
       "    var attempts = 0;\n",
       "    var timer = setInterval(function(root) {\n",
       "      if (root.Bokeh !== undefined) {\n",
       "        clearInterval(timer);\n",
       "        embed_document(root);\n",
       "      } else {\n",
       "        attempts++;\n",
       "        if (attempts > 100) {\n",
       "          clearInterval(timer);\n",
       "          console.log(\"Bokeh: ERROR: Unable to run BokehJS code because BokehJS library is missing\");\n",
       "        }\n",
       "      }\n",
       "    }, 10, root)\n",
       "  }\n",
       "})(window);"
      ],
      "application/vnd.bokehjs_exec.v0+json": ""
     },
     "metadata": {
      "application/vnd.bokehjs_exec.v0+json": {
       "id": "1421"
      }
     },
     "output_type": "display_data"
    }
   ],
   "source": [
    "#### Regression Plot\n",
    "reg_plot = figure(plot_width=700, plot_height=400,\n",
    "                title='Regression Plot (All Concurrent Data)',\n",
    "                tools=TOOLS)\n",
    "\n",
    "# plot the concurrent daily flows\n",
    "reg_plot.scatter(concurrent_df['Regional_Q'], concurrent_df['Project_Q'],\n",
    "                color='dodgerblue')\n",
    "\n",
    "#plot the best fit\n",
    "q_range = np.linspace(0, concurrent_df['Regional_Q'].max(), 500)\n",
    "intercept = 0.2\n",
    "slope = 0.15\n",
    "reg_line = [slope * q + intercept for q in q_range]\n",
    "\n",
    "reg_plot.line(q_range, reg_line, legend_label='Q = {:.1f}*Qregional + {:.1f}'.format(slope, intercept),\n",
    "             color='firebrick', line_width=2)\n",
    "reg_plot.xaxis.axis_label = 'Regional Station Daily Avg. Flow (m^3/s)'\n",
    "reg_plot.yaxis.axis_label = 'Project Location Daily Avg. Flow (m^3/s)'\n",
    "show(reg_plot)\n",
    "\n"
   ]
  },
  {
   "cell_type": "markdown",
   "metadata": {},
   "source": [
    "## Estimate Long-Term Daily Flow at Project Location\n",
    "\n",
    "The last step in the process of a long-term flow estimate for our project location is to use the equation of the best fit line (the model) to calculate estimated daily flows over periods where flow was not measured at our project location."
   ]
  },
  {
   "cell_type": "code",
   "execution_count": 26,
   "metadata": {},
   "outputs": [],
   "source": [
    "lt_series = regional_df.copy()[['flow']]\n",
    "lt_series.columns = ['Regional_Q']\n",
    "# map the equation of the best fit line to the regional flow series\n",
    "lt_series['Proj_Q'] = lt_series.apply(lambda q: slope * q + intercept, axis=1)"
   ]
  },
  {
   "cell_type": "markdown",
   "metadata": {},
   "source": [
    "## Compare the Modelled vs. Measured Flow\n"
   ]
  },
  {
   "cell_type": "code",
   "execution_count": 27,
   "metadata": {},
   "outputs": [
    {
     "data": {
      "text/html": [
       "\n",
       "\n",
       "\n",
       "\n",
       "\n",
       "\n",
       "<div class=\"bk-root\" id=\"1daf0f8e-18ce-44d7-89cb-fa67c30d383a\" data-root-id=\"1593\"></div>\n"
      ]
     },
     "metadata": {},
     "output_type": "display_data"
    },
    {
     "data": {
      "application/javascript": [
       "(function(root) {\n",
       "  function embed_document(root) {\n",
       "    \n",
       "  var docs_json = {\"5d9f879e-d20b-4c9f-a881-e4cd5d6c1e93\":{\"defs\":[],\"roots\":{\"references\":[{\"attributes\":{\"below\":[{\"id\":\"1604\"}],\"center\":[{\"id\":\"1607\"},{\"id\":\"1611\"},{\"id\":\"1655\"}],\"height\":400,\"left\":[{\"id\":\"1608\"}],\"renderers\":[{\"id\":\"1630\"},{\"id\":\"1660\"}],\"title\":{\"id\":\"1594\"},\"toolbar\":{\"id\":\"1620\"},\"width\":700,\"x_range\":{\"id\":\"1596\"},\"x_scale\":{\"id\":\"1600\"},\"y_range\":{\"id\":\"1598\"},\"y_scale\":{\"id\":\"1602\"}},\"id\":\"1593\",\"subtype\":\"Figure\",\"type\":\"Plot\"},{\"attributes\":{\"axis\":{\"id\":\"1608\"},\"dimension\":1,\"ticker\":null},\"id\":\"1611\",\"type\":\"Grid\"},{\"attributes\":{},\"id\":\"1634\",\"type\":\"DatetimeTickFormatter\"},{\"attributes\":{},\"id\":\"1614\",\"type\":\"ResetTool\"},{\"attributes\":{\"overlay\":{\"id\":\"1618\"}},\"id\":\"1617\",\"type\":\"BoxSelectTool\"},{\"attributes\":{\"fill_alpha\":0.5,\"fill_color\":\"lightgrey\",\"level\":\"overlay\",\"line_alpha\":1.0,\"line_color\":\"black\",\"line_dash\":[4,4],\"line_width\":2,\"syncable\":false,\"xs_units\":\"screen\",\"ys_units\":\"screen\"},\"id\":\"1619\",\"type\":\"PolyAnnotation\"},{\"attributes\":{\"formatter\":{\"id\":\"1637\"},\"major_label_policy\":{\"id\":\"1636\"},\"ticker\":{\"id\":\"1609\"}},\"id\":\"1608\",\"type\":\"LinearAxis\"},{\"attributes\":{\"axis\":{\"id\":\"1604\"},\"ticker\":null},\"id\":\"1607\",\"type\":\"Grid\"},{\"attributes\":{\"days\":[1,2,3,4,5,6,7,8,9,10,11,12,13,14,15,16,17,18,19,20,21,22,23,24,25,26,27,28,29,30,31]},\"id\":\"1642\",\"type\":\"DaysTicker\"},{\"attributes\":{\"callback\":null},\"id\":\"1615\",\"type\":\"HoverTool\"},{\"attributes\":{\"source\":{\"id\":\"1657\"}},\"id\":\"1661\",\"type\":\"CDSView\"},{\"attributes\":{\"days\":[1,4,7,10,13,16,19,22,25,28]},\"id\":\"1643\",\"type\":\"DaysTicker\"},{\"attributes\":{\"active_multi\":null,\"tools\":[{\"id\":\"1612\"},{\"id\":\"1613\"},{\"id\":\"1614\"},{\"id\":\"1615\"},{\"id\":\"1616\"},{\"id\":\"1617\"}]},\"id\":\"1620\",\"type\":\"Toolbar\"},{\"attributes\":{\"items\":[{\"id\":\"1656\"},{\"id\":\"1687\"}]},\"id\":\"1655\",\"type\":\"Legend\"},{\"attributes\":{\"label\":{\"value\":\"Measured Q\"},\"renderers\":[{\"id\":\"1630\"}]},\"id\":\"1656\",\"type\":\"LegendItem\"},{\"attributes\":{},\"id\":\"1684\",\"type\":\"UnionRenderers\"},{\"attributes\":{},\"id\":\"1600\",\"type\":\"LinearScale\"},{\"attributes\":{\"label\":{\"value\":\"Modeled Q\"},\"renderers\":[{\"id\":\"1660\"}]},\"id\":\"1687\",\"type\":\"LegendItem\"},{\"attributes\":{\"base\":24,\"mantissas\":[1,2,4,6,8,12],\"max_interval\":43200000.0,\"min_interval\":3600000.0,\"num_minor_ticks\":0},\"id\":\"1641\",\"type\":\"AdaptiveTicker\"},{\"attributes\":{},\"id\":\"1637\",\"type\":\"BasicTickFormatter\"},{\"attributes\":{\"days\":[1,8,15,22]},\"id\":\"1644\",\"type\":\"DaysTicker\"},{\"attributes\":{},\"id\":\"1612\",\"type\":\"PanTool\"},{\"attributes\":{},\"id\":\"1598\",\"type\":\"DataRange1d\"},{\"attributes\":{\"text\":\"Measured vs. Modeled Daily Avg. Flow\"},\"id\":\"1594\",\"type\":\"Title\"},{\"attributes\":{\"data\":{\"x\":{\"__ndarray__\":\"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\",\"dtype\":\"float64\",\"order\":\"little\",\"shape\":[494]},\"y\":{\"__ndarray__\":\"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\",\"dtype\":\"float64\",\"order\":\"little\",\"shape\":[494]}},\"selected\":{\"id\":\"1651\"},\"selection_policy\":{\"id\":\"1652\"}},\"id\":\"1627\",\"type\":\"ColumnDataSource\"},{\"attributes\":{},\"id\":\"1596\",\"type\":\"DataRange1d\"},{\"attributes\":{},\"id\":\"1683\",\"type\":\"Selection\"},{\"attributes\":{\"line_alpha\":0.1,\"line_color\":\"darkblue\",\"line_dash\":[6],\"line_width\":2,\"x\":{\"field\":\"x\"},\"y\":{\"field\":\"y\"}},\"id\":\"1659\",\"type\":\"Line\"},{\"attributes\":{\"overlay\":{\"id\":\"1619\"}},\"id\":\"1616\",\"type\":\"PolySelectTool\"},{\"attributes\":{\"months\":[0,6]},\"id\":\"1649\",\"type\":\"MonthsTicker\"},{\"attributes\":{\"num_minor_ticks\":5,\"tickers\":[{\"id\":\"1639\"},{\"id\":\"1640\"},{\"id\":\"1641\"},{\"id\":\"1642\"},{\"id\":\"1643\"},{\"id\":\"1644\"},{\"id\":\"1645\"},{\"id\":\"1646\"},{\"id\":\"1647\"},{\"id\":\"1648\"},{\"id\":\"1649\"},{\"id\":\"1650\"}]},\"id\":\"1605\",\"type\":\"DatetimeTicker\"},{\"attributes\":{\"data_source\":{\"id\":\"1657\"},\"glyph\":{\"id\":\"1658\"},\"hover_glyph\":null,\"muted_glyph\":null,\"nonselection_glyph\":{\"id\":\"1659\"},\"view\":{\"id\":\"1661\"}},\"id\":\"1660\",\"type\":\"GlyphRenderer\"},{\"attributes\":{\"months\":[0,1,2,3,4,5,6,7,8,9,10,11]},\"id\":\"1646\",\"type\":\"MonthsTicker\"},{\"attributes\":{\"mantissas\":[1,2,5],\"max_interval\":500.0,\"num_minor_ticks\":0},\"id\":\"1639\",\"type\":\"AdaptiveTicker\"},{\"attributes\":{\"source\":{\"id\":\"1627\"}},\"id\":\"1631\",\"type\":\"CDSView\"},{\"attributes\":{\"data\":{\"x\":{\"__ndarray__\":\"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\",\"dtype\":\"float64\",\"order\":\"little\",\"shape\":[494]},\"y\":{\"__ndarray__\":\"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\",\"dtype\":\"float64\",\"order\":\"little\",\"shape\":[494]}},\"selected\":{\"id\":\"1683\"},\"selection_policy\":{\"id\":\"1684\"}},\"id\":\"1657\",\"type\":\"ColumnDataSource\"},{\"attributes\":{\"months\":[0,4,8]},\"id\":\"1648\",\"type\":\"MonthsTicker\"},{\"attributes\":{\"base\":60,\"mantissas\":[1,2,5,10,15,20,30],\"max_interval\":1800000.0,\"min_interval\":1000.0,\"num_minor_ticks\":0},\"id\":\"1640\",\"type\":\"AdaptiveTicker\"},{\"attributes\":{\"line_alpha\":0.1,\"line_color\":\"dodgerblue\",\"line_width\":2,\"x\":{\"field\":\"x\"},\"y\":{\"field\":\"y\"}},\"id\":\"1629\",\"type\":\"Line\"},{\"attributes\":{},\"id\":\"1651\",\"type\":\"Selection\"},{\"attributes\":{},\"id\":\"1636\",\"type\":\"AllLabels\"},{\"attributes\":{},\"id\":\"1652\",\"type\":\"UnionRenderers\"},{\"attributes\":{\"line_color\":\"dodgerblue\",\"line_width\":2,\"x\":{\"field\":\"x\"},\"y\":{\"field\":\"y\"}},\"id\":\"1628\",\"type\":\"Line\"},{\"attributes\":{},\"id\":\"1609\",\"type\":\"BasicTicker\"},{\"attributes\":{\"data_source\":{\"id\":\"1627\"},\"glyph\":{\"id\":\"1628\"},\"hover_glyph\":null,\"muted_glyph\":null,\"nonselection_glyph\":{\"id\":\"1629\"},\"view\":{\"id\":\"1631\"}},\"id\":\"1630\",\"type\":\"GlyphRenderer\"},{\"attributes\":{},\"id\":\"1602\",\"type\":\"LinearScale\"},{\"attributes\":{},\"id\":\"1633\",\"type\":\"AllLabels\"},{\"attributes\":{},\"id\":\"1613\",\"type\":\"WheelZoomTool\"},{\"attributes\":{},\"id\":\"1650\",\"type\":\"YearsTicker\"},{\"attributes\":{\"months\":[0,2,4,6,8,10]},\"id\":\"1647\",\"type\":\"MonthsTicker\"},{\"attributes\":{\"bottom_units\":\"screen\",\"fill_alpha\":0.5,\"fill_color\":\"lightgrey\",\"left_units\":\"screen\",\"level\":\"overlay\",\"line_alpha\":1.0,\"line_color\":\"black\",\"line_dash\":[4,4],\"line_width\":2,\"right_units\":\"screen\",\"syncable\":false,\"top_units\":\"screen\"},\"id\":\"1618\",\"type\":\"BoxAnnotation\"},{\"attributes\":{\"days\":[1,15]},\"id\":\"1645\",\"type\":\"DaysTicker\"},{\"attributes\":{\"formatter\":{\"id\":\"1634\"},\"major_label_policy\":{\"id\":\"1633\"},\"ticker\":{\"id\":\"1605\"}},\"id\":\"1604\",\"type\":\"DatetimeAxis\"},{\"attributes\":{\"line_color\":\"darkblue\",\"line_dash\":[6],\"line_width\":2,\"x\":{\"field\":\"x\"},\"y\":{\"field\":\"y\"}},\"id\":\"1658\",\"type\":\"Line\"}],\"root_ids\":[\"1593\"]},\"title\":\"Bokeh Application\",\"version\":\"2.3.1\"}};\n",
       "  var render_items = [{\"docid\":\"5d9f879e-d20b-4c9f-a881-e4cd5d6c1e93\",\"root_ids\":[\"1593\"],\"roots\":{\"1593\":\"1daf0f8e-18ce-44d7-89cb-fa67c30d383a\"}}];\n",
       "  root.Bokeh.embed.embed_items_notebook(docs_json, render_items);\n",
       "\n",
       "  }\n",
       "  if (root.Bokeh !== undefined) {\n",
       "    embed_document(root);\n",
       "  } else {\n",
       "    var attempts = 0;\n",
       "    var timer = setInterval(function(root) {\n",
       "      if (root.Bokeh !== undefined) {\n",
       "        clearInterval(timer);\n",
       "        embed_document(root);\n",
       "      } else {\n",
       "        attempts++;\n",
       "        if (attempts > 100) {\n",
       "          clearInterval(timer);\n",
       "          console.log(\"Bokeh: ERROR: Unable to run BokehJS code because BokehJS library is missing\");\n",
       "        }\n",
       "      }\n",
       "    }, 10, root)\n",
       "  }\n",
       "})(window);"
      ],
      "application/vnd.bokehjs_exec.v0+json": ""
     },
     "metadata": {
      "application/vnd.bokehjs_exec.v0+json": {
       "id": "1593"
      }
     },
     "output_type": "display_data"
    }
   ],
   "source": [
    "mod_df = pd.concat([stage_df, lt_series], join='inner', axis=1)\n",
    "# keep only the measured and modeled columns\n",
    "mod_df = mod_df[['RC Q (cms)', 'Proj_Q']]\n",
    "# rename the columns to something more intuitive\n",
    "mod_df.columns = ['Measured_Q', 'Modeled_Q']\n",
    "\n",
    "reg_plot = figure(plot_width=700, plot_height=400,\n",
    "                title='Measured vs. Modeled Daily Avg. Flow',\n",
    "                tools=TOOLS, x_axis_type='datetime')\n",
    "\n",
    "reg_plot.line(mod_df.index, mod_df['Measured_Q'], line_width=2,\n",
    "             color='dodgerblue', legend_label='Measured Q')\n",
    "\n",
    "reg_plot.line(mod_df.index, mod_df['Modeled_Q'], line_width=2,\n",
    "             color='darkblue', legend_label='Modeled Q',\n",
    "             line_dash='dashed')\n",
    "\n",
    "show(reg_plot)"
   ]
  },
  {
   "cell_type": "markdown",
   "metadata": {},
   "source": [
    "### In the above plot, note general patterns, specific exceptions, and any trends\n",
    "\n",
    "Note the big deviation between the two series in the summer of 2010.  This looks like our model is doing a particularly bad job in the late summer.  How about in other seasons?   How is the model doing at predicting peaks?  \n",
    "\n",
    "How else can we evaluate how the model is fitting the measured data, noting in particular that we are interested in certain ranges of flows, perhaps for generating energy year-round, or supplying a community with drinking water in a dry season?\n",
    "\n",
    "Recall how we plotted the flow duration curve in Notebook 3.  The flow duration curve is particularly useful for focusing on how well the model matches measured data across the range of flows (though extremes are de-emphasized).  \n",
    "\n",
    "### Plot a comparison of Flow Duration Curves"
   ]
  },
  {
   "cell_type": "code",
   "execution_count": 28,
   "metadata": {},
   "outputs": [
    {
     "name": "stdout",
     "output_type": "stream",
     "text": [
      "Date\n",
      "2010-08-25    3.530\n",
      "2010-08-26    4.175\n",
      "2010-08-27    4.160\n",
      "2010-08-28    3.170\n",
      "2010-08-29    2.495\n",
      "              ...  \n",
      "2011-12-27    1.730\n",
      "2011-12-28    9.710\n",
      "2011-12-29    8.165\n",
      "2011-12-30    4.175\n",
      "2011-12-31    2.690\n",
      "Freq: D, Name: Modeled_Q, Length: 494, dtype: float64\n"
     ]
    }
   ],
   "source": [
    "print(mod_df['Modeled_Q'])"
   ]
  },
  {
   "cell_type": "code",
   "execution_count": 29,
   "metadata": {},
   "outputs": [
    {
     "data": {
      "text/html": [
       "\n",
       "\n",
       "\n",
       "\n",
       "\n",
       "\n",
       "<div class=\"bk-root\" id=\"d2c3830c-ca75-4832-9486-bf6fecf2eb35\" data-root-id=\"1886\"></div>\n"
      ]
     },
     "metadata": {},
     "output_type": "display_data"
    },
    {
     "data": {
      "application/javascript": [
       "(function(root) {\n",
       "  function embed_document(root) {\n",
       "    \n",
       "  var docs_json = {\"d957ce24-ff6e-4e8f-b730-d9ae017f89b5\":{\"defs\":[],\"roots\":{\"references\":[{\"attributes\":{\"below\":[{\"id\":\"1897\"}],\"center\":[{\"id\":\"1900\"},{\"id\":\"1904\"},{\"id\":\"1934\"}],\"height\":400,\"left\":[{\"id\":\"1901\"}],\"renderers\":[{\"id\":\"1922\"},{\"id\":\"1939\"}],\"title\":{\"id\":\"1887\"},\"toolbar\":{\"id\":\"1912\"},\"width\":700,\"x_range\":{\"id\":\"1889\"},\"x_scale\":{\"id\":\"1893\"},\"y_range\":{\"id\":\"1891\"},\"y_scale\":{\"id\":\"1895\"}},\"id\":\"1886\",\"subtype\":\"Figure\",\"type\":\"Plot\"},{\"attributes\":{},\"id\":\"1895\",\"type\":\"LinearScale\"},{\"attributes\":{\"data\":{\"x\":{\"__ndarray__\":\"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\",\"dtype\":\"float64\",\"order\":\"little\",\"shape\":[200]},\"y\":{\"__ndarray__\":\"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\",\"dtype\":\"float64\",\"order\":\"little\",\"shape\":[200]}},\"selected\":{\"id\":\"1950\"},\"selection_policy\":{\"id\":\"1951\"}},\"id\":\"1936\",\"type\":\"ColumnDataSource\"},{\"attributes\":{\"source\":{\"id\":\"1919\"}},\"id\":\"1923\",\"type\":\"CDSView\"},{\"attributes\":{\"line_color\":\"darkblue\",\"line_dash\":[6],\"line_width\":2,\"x\":{\"field\":\"x\"},\"y\":{\"field\":\"y\"}},\"id\":\"1937\",\"type\":\"Line\"},{\"attributes\":{\"label\":{\"value\":\"Modeled\"},\"renderers\":[{\"id\":\"1939\"}]},\"id\":\"1953\",\"type\":\"LegendItem\"},{\"attributes\":{\"line_alpha\":0.1,\"line_color\":\"darkblue\",\"line_dash\":[6],\"line_width\":2,\"x\":{\"field\":\"x\"},\"y\":{\"field\":\"y\"}},\"id\":\"1938\",\"type\":\"Line\"},{\"attributes\":{},\"id\":\"1931\",\"type\":\"Selection\"},{\"attributes\":{},\"id\":\"1932\",\"type\":\"UnionRenderers\"},{\"attributes\":{\"axis_label\":\"Flow [m^3/s]\",\"formatter\":{\"id\":\"1929\"},\"major_label_policy\":{\"id\":\"1928\"},\"ticker\":{\"id\":\"1902\"}},\"id\":\"1901\",\"type\":\"LinearAxis\"},{\"attributes\":{},\"id\":\"1909\",\"type\":\"ResetTool\"},{\"attributes\":{\"overlay\":{\"id\":\"1911\"}},\"id\":\"1907\",\"type\":\"BoxZoomTool\"},{\"attributes\":{},\"id\":\"1926\",\"type\":\"BasicTickFormatter\"},{\"attributes\":{\"axis\":{\"id\":\"1897\"},\"ticker\":null},\"id\":\"1900\",\"type\":\"Grid\"},{\"attributes\":{\"source\":{\"id\":\"1936\"}},\"id\":\"1940\",\"type\":\"CDSView\"},{\"attributes\":{\"data_source\":{\"id\":\"1936\"},\"glyph\":{\"id\":\"1937\"},\"hover_glyph\":null,\"muted_glyph\":null,\"nonselection_glyph\":{\"id\":\"1938\"},\"view\":{\"id\":\"1940\"}},\"id\":\"1939\",\"type\":\"GlyphRenderer\"},{\"attributes\":{\"line_color\":\"dodgerblue\",\"line_width\":2,\"x\":{\"field\":\"x\"},\"y\":{\"field\":\"y\"}},\"id\":\"1920\",\"type\":\"Line\"},{\"attributes\":{\"line_alpha\":0.1,\"line_color\":\"dodgerblue\",\"line_width\":2,\"x\":{\"field\":\"x\"},\"y\":{\"field\":\"y\"}},\"id\":\"1921\",\"type\":\"Line\"},{\"attributes\":{},\"id\":\"1925\",\"type\":\"AllLabels\"},{\"attributes\":{},\"id\":\"1889\",\"type\":\"DataRange1d\"},{\"attributes\":{\"data_source\":{\"id\":\"1919\"},\"glyph\":{\"id\":\"1920\"},\"hover_glyph\":null,\"muted_glyph\":null,\"nonselection_glyph\":{\"id\":\"1921\"},\"view\":{\"id\":\"1923\"}},\"id\":\"1922\",\"type\":\"GlyphRenderer\"},{\"attributes\":{\"items\":[{\"id\":\"1935\"},{\"id\":\"1953\"}]},\"id\":\"1934\",\"type\":\"Legend\"},{\"attributes\":{\"data\":{\"x\":{\"__ndarray__\":\"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\",\"dtype\":\"float64\",\"order\":\"little\",\"shape\":[200]},\"y\":{\"__ndarray__\":\"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\",\"dtype\":\"float64\",\"order\":\"little\",\"shape\":[200]}},\"selected\":{\"id\":\"1931\"},\"selection_policy\":{\"id\":\"1932\"}},\"id\":\"1919\",\"type\":\"ColumnDataSource\"},{\"attributes\":{},\"id\":\"1891\",\"type\":\"DataRange1d\"},{\"attributes\":{},\"id\":\"1898\",\"type\":\"BasicTicker\"},{\"attributes\":{},\"id\":\"1910\",\"type\":\"HelpTool\"},{\"attributes\":{},\"id\":\"1929\",\"type\":\"BasicTickFormatter\"},{\"attributes\":{},\"id\":\"1928\",\"type\":\"AllLabels\"},{\"attributes\":{\"axis\":{\"id\":\"1901\"},\"dimension\":1,\"ticker\":null},\"id\":\"1904\",\"type\":\"Grid\"},{\"attributes\":{},\"id\":\"1950\",\"type\":\"Selection\"},{\"attributes\":{},\"id\":\"1902\",\"type\":\"BasicTicker\"},{\"attributes\":{\"text\":\"Measured vs. Modeled Flow Duration Curve\"},\"id\":\"1887\",\"type\":\"Title\"},{\"attributes\":{\"label\":{\"value\":\"Measured\"},\"renderers\":[{\"id\":\"1922\"}]},\"id\":\"1935\",\"type\":\"LegendItem\"},{\"attributes\":{\"axis_label\":\"Percent of Time Exceeded [%]\",\"formatter\":{\"id\":\"1926\"},\"major_label_policy\":{\"id\":\"1925\"},\"ticker\":{\"id\":\"1898\"}},\"id\":\"1897\",\"type\":\"LinearAxis\"},{\"attributes\":{},\"id\":\"1908\",\"type\":\"SaveTool\"},{\"attributes\":{},\"id\":\"1951\",\"type\":\"UnionRenderers\"},{\"attributes\":{\"bottom_units\":\"screen\",\"fill_alpha\":0.5,\"fill_color\":\"lightgrey\",\"left_units\":\"screen\",\"level\":\"overlay\",\"line_alpha\":1.0,\"line_color\":\"black\",\"line_dash\":[4,4],\"line_width\":2,\"right_units\":\"screen\",\"syncable\":false,\"top_units\":\"screen\"},\"id\":\"1911\",\"type\":\"BoxAnnotation\"},{\"attributes\":{},\"id\":\"1893\",\"type\":\"LinearScale\"},{\"attributes\":{\"active_multi\":null,\"tools\":[{\"id\":\"1905\"},{\"id\":\"1906\"},{\"id\":\"1907\"},{\"id\":\"1908\"},{\"id\":\"1909\"},{\"id\":\"1910\"}]},\"id\":\"1912\",\"type\":\"Toolbar\"},{\"attributes\":{},\"id\":\"1906\",\"type\":\"WheelZoomTool\"},{\"attributes\":{},\"id\":\"1905\",\"type\":\"PanTool\"}],\"root_ids\":[\"1886\"]},\"title\":\"Bokeh Application\",\"version\":\"2.3.1\"}};\n",
       "  var render_items = [{\"docid\":\"d957ce24-ff6e-4e8f-b730-d9ae017f89b5\",\"root_ids\":[\"1886\"],\"roots\":{\"1886\":\"d2c3830c-ca75-4832-9486-bf6fecf2eb35\"}}];\n",
       "  root.Bokeh.embed.embed_items_notebook(docs_json, render_items);\n",
       "\n",
       "  }\n",
       "  if (root.Bokeh !== undefined) {\n",
       "    embed_document(root);\n",
       "  } else {\n",
       "    var attempts = 0;\n",
       "    var timer = setInterval(function(root) {\n",
       "      if (root.Bokeh !== undefined) {\n",
       "        clearInterval(timer);\n",
       "        embed_document(root);\n",
       "      } else {\n",
       "        attempts++;\n",
       "        if (attempts > 100) {\n",
       "          clearInterval(timer);\n",
       "          console.log(\"Bokeh: ERROR: Unable to run BokehJS code because BokehJS library is missing\");\n",
       "        }\n",
       "      }\n",
       "    }, 10, root)\n",
       "  }\n",
       "})(window);"
      ],
      "application/vnd.bokehjs_exec.v0+json": ""
     },
     "metadata": {
      "application/vnd.bokehjs_exec.v0+json": {
       "id": "1886"
      }
     },
     "output_type": "display_data"
    }
   ],
   "source": [
    "pct_exceeded = np.linspace(0, 100, 200)\n",
    "mod_df.dropna(inplace=True)\n",
    "msd_quantiles = np.percentile(mod_df['Measured_Q'], pct_exceeded)\n",
    "modeled_quantiles = np.percentile(mod_df['Modeled_Q'], pct_exceeded)\n",
    "\n",
    "fdc_plot = figure(width=700, height=400, title='Measured vs. Modeled Flow Duration Curve')\n",
    "fdc_plot.line(pct_exceeded[::-1], msd_quantiles, legend_label=\"Measured\", line_width=2,\n",
    "             color='dodgerblue')\n",
    "fdc_plot.line(pct_exceeded[::-1], modeled_quantiles, line_width=2,\n",
    "             color='darkblue', legend_label='Modeled', line_dash='dashed')\n",
    "fdc_plot.yaxis.axis_label = 'Flow [m^3/s]'\n",
    "fdc_plot.xaxis.axis_label = 'Percent of Time Exceeded [%]'\n",
    "show(fdc_plot)"
   ]
  },
  {
   "cell_type": "markdown",
   "metadata": {},
   "source": [
    "## Estimate the Long-Term Mean Annual Flow for our Project Location\n",
    "\n",
    "Compare the long term mean annual against the short term, then compare the long-term monthly and annual series."
   ]
  },
  {
   "cell_type": "code",
   "execution_count": 30,
   "metadata": {},
   "outputs": [
    {
     "name": "stdout",
     "output_type": "stream",
     "text": [
      "The mean annual flow (MAD) at our project location is 5.3 m^3/s\n",
      "To compare, the average flow over the measured period was 4.7 m^3/s\n",
      "The median flow for the long-term period was 3.7 m^3/s\n",
      "To compare, the median flow over the measured period was 2.9 m^3/s\n"
     ]
    }
   ],
   "source": [
    "lt_mad = lt_series[['Proj_Q']].mean().to_numpy()[0]\n",
    "msd_mean = stage_df[['RC Q (cms)']].mean().to_numpy()[0]\n",
    "lt_series.dropna(inplace=True)\n",
    "lt_median = np.percentile(lt_series['Proj_Q'], 50)\n",
    "msd_median = stage_df[['RC Q (cms)']].median().to_numpy()[0]\n",
    "\n",
    "print('The mean annual flow (MAD) at our project location is {:.1f} m^3/s'.format(lt_mad))\n",
    "print('To compare, the average flow over the measured period was {:.1f} m^3/s'.format(msd_mean))\n",
    "print('The median flow for the long-term period was {:.1f} m^3/s'.format(lt_median))\n",
    "print('To compare, the median flow over the measured period was {:.1f} m^3/s'.format(msd_median))"
   ]
  },
  {
   "cell_type": "code",
   "execution_count": 31,
   "metadata": {},
   "outputs": [
    {
     "data": {
      "image/png": "[encoded data removed]",
      "text/plain": [
       "<Figure size 432x288 with 1 Axes>"
      ]
     },
     "metadata": {
      "filenames": {
       "image/png": "/home/steven/code/Engineering_Hydrology_Notebooks/content/_build/jupyter_execute/notebooks/Notebook_4/Notebook_4_42_0.png"
      },
      "needs_background": "light"
     },
     "output_type": "display_data"
    }
   ],
   "source": [
    "lt_series['year'] = lt_series.index.year\n",
    "annual_series = lt_series[['Proj_Q', 'year']].groupby('year').mean()\n",
    "\n",
    "stage_df['year'] = stage_df.index.year\n",
    "msd_ann = stage_df[['year', 'RC Q (cms)']].groupby('year').mean()\n",
    "\n",
    "plt.plot(annual_series['Proj_Q'], label='LT Modelled')\n",
    "plt.plot([1987, 2017], [lt_mad, lt_mad], label='LT Mean', color='green')\n",
    "plt.scatter(msd_ann.index, msd_ann['RC Q (cms)'], color='red')\n",
    "plt.title('Mean Annual Series')\n",
    "plt.legend()\n",
    "plt.show()"
   ]
  },
  {
   "cell_type": "markdown",
   "metadata": {},
   "source": [
    "## Questions for Reflection\n",
    "\n",
    "1.  From our regression plot and from the comparison of measured and estimated daily flow series, what do you think about the quality of our model, i.e. how well does the best fit line approximate the concurrent daily flows (blue dots)?  \n",
    "2.  What range of flow is exceeded 67% OR MORE of the time, how well is this range modelled and what might this flow range be pertinent to?  \n",
    "3.  What could differences in concurrent flows at the two locations be attributable to?  \n",
    "4.  How might we modify our model to capture one of the differences you noted in 3?\n",
    "5.  In the last plot, we see that the ~two years we measured flow at our project location were very close to the long-term mean annual.  What if the two years we happened to measure were 2000 and 2001 and we took these as representative without doing a regression analysis with a long-term regional record?"
   ]
  },
  {
   "cell_type": "markdown",
   "metadata": {},
   "source": [
    "## References\n",
    "\n",
    "1. A.S. Hamilton & R.D. Moore (2012). Quantifying Uncertainty in Streamflow Records , Canadian Water Resources Journal / Revue canadienne des ressources hydriques, 37:1, 3-21, DOI: 10.4296/cwrj3701865\n",
    "2. Environment Canada (2012).  Hydrometric Manual - Data Computations.  Water Survey of Canada, Weather and Environmental Monitoring Directorate."
   ]
  }
 ],
 "metadata": {
  "kernelspec": {
   "display_name": "Python 3",
   "language": "python",
   "name": "python3"
  },
  "language_info": {
   "codemirror_mode": {
    "name": "ipython",
    "version": 3
   },
   "file_extension": ".py",
   "mimetype": "text/x-python",
   "name": "python",
   "nbconvert_exporter": "python",
   "pygments_lexer": "ipython3",
   "version": "3.8.2"
  }
 },
 "nbformat": 4,
 "nbformat_minor": 4
}